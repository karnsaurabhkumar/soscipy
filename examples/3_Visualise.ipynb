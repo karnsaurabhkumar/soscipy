{
 "cells": [
  {
   "cell_type": "markdown",
   "metadata": {},
   "source": [
    "# SoSciPy\n",
    "### Visualise\n",
    "The main aim of SoSciPy is to create a go to tool for quick quantiative social science. As one of the basic needs for this discipline is to visualise what is happening we have added a commonly used visual vocabulary for quick analysis."
   ]
  },
  {
   "cell_type": "code",
   "execution_count": 319,
   "metadata": {},
   "outputs": [
    {
     "name": "stdout",
     "output_type": "stream",
     "text": [
      "Collecting soscipy\n",
      "  Downloading soscipy-0.0.19-py3-none-any.whl (15 kB)\n",
      "Installing collected packages: soscipy\n",
      "  Attempting uninstall: soscipy\n",
      "    Found existing installation: soscipy 0.0.19\n",
      "    Uninstalling soscipy-0.0.19:\n",
      "      Successfully uninstalled soscipy-0.0.19\n",
      "Successfully installed soscipy-0.0.19\n"
     ]
    }
   ],
   "source": [
    "#Run if you don't have soscipy installed\n",
    "!pip install --upgrade --force-reinstall soscipy"
   ]
  },
  {
   "cell_type": "markdown",
   "metadata": {},
   "source": [
    "1. Divergence graph"
   ]
  },
  {
   "cell_type": "code",
   "execution_count": 324,
   "metadata": {},
   "outputs": [
    {
     "ename": "SyntaxError",
     "evalue": "invalid syntax (<ipython-input-324-eda970511dfd>, line 1)",
     "output_type": "error",
     "traceback": [
      "\u001b[0;36m  File \u001b[0;32m\"<ipython-input-324-eda970511dfd>\"\u001b[0;36m, line \u001b[0;32m1\u001b[0m\n\u001b[0;31m    from soscipy.plot import deviation.py\u001b[0m\n\u001b[0m                                      ^\u001b[0m\n\u001b[0;31mSyntaxError\u001b[0m\u001b[0;31m:\u001b[0m invalid syntax\n"
     ]
    }
   ],
   "source": [
    "from soscipy.plot import deviation.py"
   ]
  },
  {
   "cell_type": "code",
   "execution_count": 320,
   "metadata": {},
   "outputs": [],
   "source": [
    "import numpy as np\n",
    "import pandas as pd\n",
    "from soscipy import plot"
   ]
  },
  {
   "cell_type": "code",
   "execution_count": 271,
   "metadata": {},
   "outputs": [],
   "source": [
    "#Usage\n",
    "\n",
    "#Read the file. Here we are taking example of mtcars.csv, a famous dataset on the milage of different cars\n",
    "path = \"/\".join(os.getcwd().split(\"/\")[:5])+\"/data\"+\"/\"+'mtcars.csv'\n",
    "\n",
    "df = pd.read_csv(path)\n",
    "print(df.columns)\n",
    "graph = diverge_graph(df=df,labels='cars',val='mpg')\n",
    "graph.plot()"
   ]
  },
  {
   "cell_type": "markdown",
   "metadata": {},
   "source": [
    "2. Implementation"
   ]
  },
  {
   "cell_type": "code",
   "execution_count": 305,
   "metadata": {},
   "outputs": [],
   "source": [
    "class diverge_graph:\n",
    "    def __init__(self,df,labels,val,xlabel=None,ylabel=None,TITLE=None,figsize=(5,10),dpi=80,tfont=20,lfont=12,linewidth=10,cmap='RdYlGn'):\n",
    "        self.labels = df[labels]\n",
    "        if not xlabel:\n",
    "            self.xlabel = labels\n",
    "        else:\n",
    "            self.xlabel = xlabel\n",
    "        \n",
    "        if not ylabel:\n",
    "            self.ylabel = val\n",
    "        else:\n",
    "            self.ylabel = ylabel\n",
    "        \n",
    "        self.values = df[val].values\n",
    "        self.figsize = figsize\n",
    "        self.plt = plt\n",
    "        self.tfont=tfont\n",
    "        self.lfont=lfont\n",
    "        self.dpi = dpi\n",
    "        self.linewidth=linewidth\n",
    "        if not TITLE:\n",
    "            self.chart_title = f\"Diverging graph: {self.xlabel} vs {self.ylabel}\"\n",
    "        else:\n",
    "            self.chart_title = TITLE\n",
    "        self.z_scores = self.__z_score__(self.values)\n",
    "        \n",
    "    def __z_score__(self,val):\n",
    "        return (val-val.mean())/val.std()\n",
    "    \n",
    "    def __color__(self, __range):\n",
    "        return ['C1' if val<0 else 'C2' for val in __range]\n",
    "    \n",
    "    def plot(self):\n",
    "        order = np.argsort(self.z_scores)\n",
    "        self.z_scores.sort()\n",
    "        self.values = [self.values[i] for i in order]\n",
    "        self.labels = [self.labels[i] for i in order]\n",
    "        \n",
    "        self.plt.figure(figsize=self.figsize,dpi=self.dpi,facecolor='oldlace')\n",
    "        self.plt.hlines(y=range(len(self.labels)),\n",
    "                   xmin=0,\n",
    "                   xmax= self.z_scores,\n",
    "                   color = self.__color__(self.z_scores),\n",
    "                   alpha=0.5,\n",
    "                   linewidth=self.linewidth)\n",
    "        self.plt.gca().set(ylabel=self.ylabel, xlabel=self.xlabel)\n",
    "        self.plt.yticks(range(len(self.labels)),self.labels,fontsize=self.lfont)\n",
    "        self.plt.title(self.chart_title,fontdict={'size':self.tfont,'family':'Tahoma'})\n",
    "        self.plt.grid(linestyle='--',alpha=0.5)\n",
    "        self.plt.show()"
   ]
  }
 ],
 "metadata": {
  "kernelspec": {
   "display_name": "Python 3",
   "language": "python",
   "name": "python3"
  },
  "language_info": {
   "codemirror_mode": {
    "name": "ipython",
    "version": 3
   },
   "file_extension": ".py",
   "mimetype": "text/x-python",
   "name": "python",
   "nbconvert_exporter": "python",
   "pygments_lexer": "ipython3",
   "version": "3.8.5"
  }
 },
 "nbformat": 4,
 "nbformat_minor": 4
}
