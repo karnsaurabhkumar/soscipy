{
 "cells": [
  {
   "cell_type": "markdown",
   "metadata": {},
   "source": [
    "# Soscipy\n",
    "Soscipy is a python library to simplify working with data specially in social sciences. While there are several packages out there, I have personally found it difficult to find out the right library to stick to and the right recepies to use. Unlike other domain where computational methods have seen a rapid growth, social sciences remain a relatively unexplored area. This is first of the 4 tutorials which will explore data analysis in education. \n",
    "\n",
    "There are four parts to soscipy:\n",
    "- **Data Analysis** : Aims to make rapid analysis easy while not compromising on any functionalities and extendability\n",
    "- **Data Processing** : Makes common actions with structured data easy and accessible without needing expertiese in computer science\n",
    "- **Data Visualisation** : Rapid visualisations while ensuring that the output is publication quality\n",
    "- **Utilities** : A set of utilities that you can plug and play to make your workflow easy"
   ]
  },
  {
   "cell_type": "markdown",
   "metadata": {},
   "source": [
    "### Data Analysis"
   ]
  },
  {
   "cell_type": "markdown",
   "metadata": {},
   "source": [
    "There are four types of structured datasets that is majorly dealt with in social science:\n",
    "- Time series\n",
    "- Microdata\n",
    "- Geospatial\n",
    "\n",
    "In this notebook we will see an example of all of these four data types, how to do basic EDA using soscipy and how to do quick visualisations"
   ]
  },
  {
   "cell_type": "markdown",
   "metadata": {},
   "source": [
    "### 1. Problem statement\n",
    "We want to analyse the relationship between the countries expenditure on education and their income inequality. We will import data from worldbank using soscipy dataloader. We will enrich the data with some of the common economic indicators and then we will do a regression analysis and visualise it to see the relationship between these two indicators."
   ]
  },
  {
   "cell_type": "markdown",
   "metadata": {},
   "source": [
    "**Fetching data**\n",
    "- We will visit the World Bank data page and look for the datafile. Use this URL: https://data.worldbank.org/indicator/SE.XPD.TOTL.GD.ZS?view=chart"
   ]
  },
  {
   "cell_type": "code",
   "execution_count": 1,
   "metadata": {},
   "outputs": [
    {
     "name": "stdout",
     "output_type": "stream",
     "text": [
      "Requirement already up-to-date: soscipy in /Users/saurabhkarn/opt/anaconda3/lib/python3.8/site-packages (0.0.17)\r\n"
     ]
    }
   ],
   "source": [
    "!pip install --upgrade soscipy"
   ]
  },
  {
   "cell_type": "code",
   "execution_count": 5,
   "metadata": {},
   "outputs": [],
   "source": [
    "import pandas as pd\n",
    "from soscipy.process import dfops"
   ]
  },
  {
   "cell_type": "code",
   "execution_count": 6,
   "metadata": {},
   "outputs": [],
   "source": [
    "f1 = '/Users/saurabhkarn/PycharmProjects/kornect/test_data/rangin_justicehub-file.xlsx'\n",
    "f2 = '/Users/saurabhkarn/PycharmProjects/kornect/test_data/gyan_data.csv'"
   ]
  },
  {
   "cell_type": "code",
   "execution_count": 7,
   "metadata": {},
   "outputs": [],
   "source": [
    "df1 = pd.read_excel(f1)\n",
    "df2 = pd.read_csv(f2)"
   ]
  },
  {
   "cell_type": "code",
   "execution_count": 10,
   "metadata": {},
   "outputs": [],
   "source": [
    "temp = dfops.combine(df1,df2)"
   ]
  },
  {
   "cell_type": "code",
   "execution_count": 12,
   "metadata": {},
   "outputs": [],
   "source": [
    "temp.to_csv('test.csv')"
   ]
  },
  {
   "cell_type": "code",
   "execution_count": null,
   "metadata": {},
   "outputs": [],
   "source": [
    "temp.to_csv(\"test.csv\")"
   ]
  },
  {
   "cell_type": "code",
   "execution_count": null,
   "metadata": {},
   "outputs": [],
   "source": [
    "def get_indicator(url):\n",
    "    indicator = url.split('?')[0].split('/')[-1]\n",
    "    return indicator\n",
    "def world_bank_data(url, date, mrv=2):\n",
    "    \"\"\"\n",
    "    Takes a URL for input and extracts the indicator string. This is then used to extract data from world bank data\n",
    "    :param url: URL of the data page\n",
    "    :return: Dataframew with indicator as the last column\n",
    "    \"\"\"\n",
    "    indicator = get_indicator(url)\n",
    "    data = wb.get_series(indicator, date=date,mrv=mrv).to_frame().reset_index()\n",
    "    series = data['Series'].unique()[0]\n",
    "    data = data.drop(['Series'], axis=1)\n",
    "    data.Year = data.Year.apply(lambda x: int(x))\n",
    "    data = dfops.rename_pd(data, [data.columns[-1]], [series])\n",
    "    return data"
   ]
  },
  {
   "cell_type": "markdown",
   "metadata": {},
   "source": [
    "https://wbdata.readthedocs.io/en/stable/#:~:text=Wbdata%20is%20a%20simple%20python,for%20searching%20and%20retrieving%20information."
   ]
  },
  {
   "cell_type": "code",
   "execution_count": null,
   "metadata": {},
   "outputs": [],
   "source": [
    "data = world_bank_data(data_url,date='2018:2020')\n",
    "data"
   ]
  },
  {
   "cell_type": "code",
   "execution_count": null,
   "metadata": {},
   "outputs": [],
   "source": [
    "for Y in data.Year.unique():\n",
    "    data[str(Y)] = data[data.Year == Y][data.columns[-1]]"
   ]
  },
  {
   "cell_type": "code",
   "execution_count": null,
   "metadata": {},
   "outputs": [],
   "source": [
    "data[str(Y)] = data[data.Year == Y][data.columns[-1]]"
   ]
  },
  {
   "cell_type": "code",
   "execution_count": null,
   "metadata": {},
   "outputs": [],
   "source": [
    "data"
   ]
  },
  {
   "cell_type": "code",
   "execution_count": null,
   "metadata": {},
   "outputs": [],
   "source": []
  },
  {
   "cell_type": "markdown",
   "metadata": {},
   "source": [
    "### Installation "
   ]
  },
  {
   "cell_type": "code",
   "execution_count": null,
   "metadata": {},
   "outputs": [],
   "source": [
    "!pip install --upgrade soscipy"
   ]
  }
 ],
 "metadata": {
  "kernelspec": {
   "display_name": "Python 3",
   "language": "python",
   "name": "python3"
  },
  "language_info": {
   "codemirror_mode": {
    "name": "ipython",
    "version": 3
   },
   "file_extension": ".py",
   "mimetype": "text/x-python",
   "name": "python",
   "nbconvert_exporter": "python",
   "pygments_lexer": "ipython3",
   "version": "3.8.5"
  }
 },
 "nbformat": 4,
 "nbformat_minor": 4
}
