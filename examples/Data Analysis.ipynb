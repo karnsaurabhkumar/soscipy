{
 "cells": [
  {
   "cell_type": "markdown",
   "metadata": {},
   "source": [
    "# Soscipy\n",
    "Soscipy is a python library to simplify working with data specially in social sciences. While there are several packages out there, I have personally found it difficult to find out the right library to stick to and the right recepies to use. Unlike other domain where computational methods have seen a rapid growth, social sciences remain a relatively unexplored area. This is first of the 4 tutorials which will explore data analysis in education. \n",
    "\n",
    "There are four parts to soscipy:\n",
    "- **Data Analysis** : Aims to make rapid analysis easy while not compromising on any functionalities and extendability\n",
    "- **Data Processing** : Makes common actions with structured data easy and accessible without needing expertiese in computer science\n",
    "- **Data Visualisation** : Rapid visualisations while ensuring that the output is publication quality\n",
    "- **Utilities** : A set of utilities that you can plug and play to make your workflow easy"
   ]
  },
  {
   "cell_type": "markdown",
   "metadata": {},
   "source": [
    "### Data Analysis"
   ]
  },
  {
   "cell_type": "markdown",
   "metadata": {},
   "source": [
    "There are four types of structured datasets that is majorly dealt with in social science:\n",
    "- Time series\n",
    "- Microdata\n",
    "- Geospatial\n",
    "\n",
    "In this notebook we will see an example of all of these four data types, how to do basic EDA using soscipy and how to do quick visualisations"
   ]
  },
  {
   "cell_type": "markdown",
   "metadata": {},
   "source": [
    "### 1. Problem statement\n",
    "We want to analyse the relationship between the countries expenditure on education and their income inequality. We will import data from worldbank using soscipy dataloader. We will enrich the data with some of the common economic indicators and then we will do a regression analysis and visualise it to see the relationship between these two indicators."
   ]
  },
  {
   "cell_type": "code",
   "execution_count": 1,
   "metadata": {
    "scrolled": true
   },
   "outputs": [
    {
     "name": "stdout",
     "output_type": "stream",
     "text": [
      "Collecting soscipy\n",
      "  Downloading soscipy-0.0.11-py3-none-any.whl (9.8 kB)\n",
      "Installing collected packages: soscipy\n",
      "Successfully installed soscipy-0.0.11\n"
     ]
    }
   ],
   "source": [
    "!pip install soscipy"
   ]
  },
  {
   "cell_type": "markdown",
   "metadata": {},
   "source": [
    "**Fetching data**\n",
    "- We will visit the World Bank data page and look for the datafile. Use this URL: https://data.worldbank.org/indicator/SE.XPD.TOTL.GD.ZS?view=chart"
   ]
  },
  {
   "cell_type": "code",
   "execution_count": 3,
   "metadata": {},
   "outputs": [],
   "source": [
    "from soscipy.process import dfops\n",
    "from soscipy.fetch.wb import world_bank_data"
   ]
  },
  {
   "cell_type": "code",
   "execution_count": null,
   "metadata": {},
   "outputs": [],
   "source": [
    "#Fetching data from worldbank"
   ]
  },
  {
   "cell_type": "code",
   "execution_count": null,
   "metadata": {},
   "outputs": [],
   "source": [
    "data_url = \"https://data.worldbank.org/indicator/SE.XPD.TOTL.GD.ZS?view=chart\""
   ]
  },
  {
   "cell_type": "code",
   "execution_count": 3,
   "metadata": {},
   "outputs": [],
   "source": [
    "import pandas as pd\n",
    "import world_bank_data as wb"
   ]
  },
  {
   "cell_type": "code",
   "execution_count": 7,
   "metadata": {},
   "outputs": [],
   "source": [
    "data = world_bank_data(data_url)\n",
    "data"
   ]
  },
  {
   "cell_type": "markdown",
   "metadata": {},
   "source": [
    "### Installation "
   ]
  },
  {
   "cell_type": "code",
   "execution_count": null,
   "metadata": {},
   "outputs": [],
   "source": [
    "!pip install -U soscipy"
   ]
  },
  {
   "cell_type": "code",
   "execution_count": null,
   "metadata": {},
   "outputs": [],
   "source": [
    "type(dat) == pd.core.frame.DataFrame"
   ]
  },
  {
   "cell_type": "code",
   "execution_count": null,
   "metadata": {},
   "outputs": [],
   "source": []
  }
 ],
 "metadata": {
  "kernelspec": {
   "display_name": "Python 3",
   "language": "python",
   "name": "python3"
  },
  "language_info": {
   "codemirror_mode": {
    "name": "ipython",
    "version": 3
   },
   "file_extension": ".py",
   "mimetype": "text/x-python",
   "name": "python",
   "nbconvert_exporter": "python",
   "pygments_lexer": "ipython3",
   "version": "3.8.5"
  }
 },
 "nbformat": 4,
 "nbformat_minor": 4
}
