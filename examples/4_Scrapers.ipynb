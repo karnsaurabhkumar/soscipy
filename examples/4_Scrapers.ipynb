{
 "cells": [
  {
   "cell_type": "markdown",
   "metadata": {},
   "source": [
    "## Running High Court scraper"
   ]
  },
  {
   "cell_type": "code",
   "execution_count": 1,
   "metadata": {
    "scrolled": true
   },
   "outputs": [
    {
     "name": "stdout",
     "output_type": "stream",
     "text": [
      "Collecting soscipy\n",
      "  Using cached soscipy-0.0.29-py3-none-any.whl (21 kB)\n",
      "Collecting seaborn~=0.11.1\n",
      "  Using cached seaborn-0.11.1-py3-none-any.whl (285 kB)\n",
      "Requirement already satisfied, skipping upgrade: selenium~=3.141.0 in /Users/saurabhkarn/opt/anaconda3/lib/python3.8/site-packages (from soscipy) (3.141.0)\n",
      "Collecting urllib3~=1.26.4\n",
      "  Using cached urllib3-1.26.4-py2.py3-none-any.whl (153 kB)\n",
      "Collecting pip~=21.0.1\n",
      "  Using cached pip-21.0.1-py3-none-any.whl (1.5 MB)\n",
      "Requirement already satisfied, skipping upgrade: python-dateutil~=2.8.1 in /Users/saurabhkarn/opt/anaconda3/lib/python3.8/site-packages (from soscipy) (2.8.1)\n",
      "Collecting pandas~=1.2.3\n",
      "  Using cached pandas-1.2.4-cp38-cp38-macosx_10_9_x86_64.whl (10.5 MB)\n",
      "Requirement already satisfied, skipping upgrade: cycler~=0.10.0 in /Users/saurabhkarn/opt/anaconda3/lib/python3.8/site-packages (from soscipy) (0.10.0)\n",
      "Collecting attrs~=20.3.0\n",
      "  Using cached attrs-20.3.0-py2.py3-none-any.whl (49 kB)\n",
      "Requirement already satisfied, skipping upgrade: olefile~=0.46 in /Users/saurabhkarn/opt/anaconda3/lib/python3.8/site-packages (from soscipy) (0.46)\n",
      "Collecting pytest~=6.2.3\n",
      "  Using cached pytest-6.2.3-py3-none-any.whl (280 kB)\n",
      "Collecting setuptools~=52.0.0\n",
      "  Using cached setuptools-52.0.0-py3-none-any.whl (784 kB)\n",
      "Collecting wheel~=0.36.2\n",
      "  Using cached wheel-0.36.2-py2.py3-none-any.whl (35 kB)\n",
      "Requirement already satisfied, skipping upgrade: pyparsing~=2.4.7 in /Users/saurabhkarn/opt/anaconda3/lib/python3.8/site-packages (from soscipy) (2.4.7)\n",
      "Collecting tornado~=6.1\n",
      "  Using cached tornado-6.1-cp38-cp38-macosx_10_9_x86_64.whl (416 kB)\n",
      "Requirement already satisfied, skipping upgrade: sparse-dot-topn~=0.2.9 in /Users/saurabhkarn/opt/anaconda3/lib/python3.8/site-packages (from soscipy) (0.2.9)\n",
      "Requirement already satisfied, skipping upgrade: six~=1.15.0 in /Users/saurabhkarn/opt/anaconda3/lib/python3.8/site-packages (from soscipy) (1.15.0)\n",
      "Collecting py~=1.10.0\n",
      "  Using cached py-1.10.0-py2.py3-none-any.whl (97 kB)\n",
      "\u001b[31mERROR: Could not find a version that satisfies the requirement openssl~=1.1.1 (from soscipy) (from versions: none)\u001b[0m\n",
      "\u001b[31mERROR: No matching distribution found for openssl~=1.1.1 (from soscipy)\u001b[0m\n"
     ]
    }
   ],
   "source": [
    "!pip install -U soscipy"
   ]
  },
  {
   "cell_type": "code",
   "execution_count": 2,
   "metadata": {},
   "outputs": [],
   "source": [
    "from soscipy.fetch import HighCourt"
   ]
  },
  {
   "cell_type": "code",
   "execution_count": 4,
   "metadata": {},
   "outputs": [],
   "source": [
    "x = HighCourt.HC_list"
   ]
  },
  {
   "cell_type": "code",
   "execution_count": 8,
   "metadata": {},
   "outputs": [
    {
     "data": {
      "text/plain": [
       "True"
      ]
     },
     "execution_count": 8,
     "metadata": {},
     "output_type": "execute_result"
    }
   ],
   "source": [
    "'Delhi' in x"
   ]
  },
  {
   "cell_type": "code",
   "execution_count": null,
   "metadata": {},
   "outputs": [],
   "source": []
  }
 ],
 "metadata": {
  "kernelspec": {
   "display_name": "Python 3",
   "language": "python",
   "name": "python3"
  },
  "language_info": {
   "codemirror_mode": {
    "name": "ipython",
    "version": 3
   },
   "file_extension": ".py",
   "mimetype": "text/x-python",
   "name": "python",
   "nbconvert_exporter": "python",
   "pygments_lexer": "ipython3",
   "version": "3.8.5"
  }
 },
 "nbformat": 4,
 "nbformat_minor": 4
}
