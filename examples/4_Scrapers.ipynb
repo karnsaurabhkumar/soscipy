{
 "cells": [
  {
   "cell_type": "markdown",
   "metadata": {},
   "source": [
    "## Running High Court scraper"
   ]
  },
  {
   "cell_type": "code",
   "execution_count": 1,
   "metadata": {
    "scrolled": true
   },
   "outputs": [
    {
     "name": "stdout",
     "output_type": "stream",
     "text": [
      "Collecting soscipy\n",
      "  Using cached soscipy-0.0.32-py3-none-any.whl (21 kB)\n",
      "Collecting kiwisolver~=1.3.1\n",
      "  Using cached kiwisolver-1.3.1-cp38-cp38-macosx_10_9_x86_64.whl (61 kB)\n",
      "Collecting matplotlib~=3.3.4\n",
      "  Using cached matplotlib-3.3.4-cp38-cp38-macosx_10_9_x86_64.whl (8.5 MB)\n",
      "Collecting idna~=3.1\n",
      "  Using cached idna-3.1-py3-none-any.whl (58 kB)\n",
      "Requirement already satisfied, skipping upgrade: selenium~=3.141.0 in /Users/saurabhkarn/opt/anaconda3/lib/python3.8/site-packages (from soscipy) (3.141.0)\n",
      "Requirement already satisfied, skipping upgrade: cycler~=0.10.0 in /Users/saurabhkarn/opt/anaconda3/lib/python3.8/site-packages (from soscipy) (0.10.0)\n",
      "Requirement already satisfied, skipping upgrade: six~=1.15.0 in /Users/saurabhkarn/opt/anaconda3/lib/python3.8/site-packages (from soscipy) (1.15.0)\n",
      "Collecting seaborn~=0.11.1\n",
      "  Using cached seaborn-0.11.1-py3-none-any.whl (285 kB)\n",
      "Collecting pip~=21.0.1\n",
      "  Using cached pip-21.0.1-py3-none-any.whl (1.5 MB)\n",
      "Collecting tornado~=6.1\n",
      "  Using cached tornado-6.1-cp38-cp38-macosx_10_9_x86_64.whl (416 kB)\n",
      "Collecting scipy~=1.6.2\n",
      "  Using cached scipy-1.6.3-cp38-cp38-macosx_10_9_x86_64.whl (30.8 MB)\n",
      "\u001b[31mERROR: Could not find a version that satisfies the requirement blas~=1.0 (from soscipy) (from versions: none)\u001b[0m\n",
      "\u001b[31mERROR: No matching distribution found for blas~=1.0 (from soscipy)\u001b[0m\n"
     ]
    }
   ],
   "source": [
    "!pip install soscipy --upgrade"
   ]
  },
  {
   "cell_type": "code",
   "execution_count": null,
   "metadata": {},
   "outputs": [],
   "source": [
    "from soscipy."
   ]
  },
  {
   "cell_type": "code",
   "execution_count": 3,
   "metadata": {},
   "outputs": [],
   "source": [
    "HighCourt??"
   ]
  },
  {
   "cell_type": "code",
   "execution_count": 2,
   "metadata": {},
   "outputs": [],
   "source": [
    "from soscipy.fetch import HighCourt"
   ]
  },
  {
   "cell_type": "code",
   "execution_count": null,
   "metadata": {},
   "outputs": [],
   "source": []
  },
  {
   "cell_type": "code",
   "execution_count": null,
   "metadata": {},
   "outputs": [],
   "source": [
    "HighCourt.del"
   ]
  },
  {
   "cell_type": "code",
   "execution_count": 4,
   "metadata": {},
   "outputs": [],
   "source": [
    "x = HighCourt.HC_list"
   ]
  },
  {
   "cell_type": "code",
   "execution_count": 8,
   "metadata": {},
   "outputs": [
    {
     "data": {
      "text/plain": [
       "True"
      ]
     },
     "execution_count": 8,
     "metadata": {},
     "output_type": "execute_result"
    }
   ],
   "source": [
    "'Delhi' in x"
   ]
  },
  {
   "cell_type": "code",
   "execution_count": null,
   "metadata": {},
   "outputs": [],
   "source": []
  }
 ],
 "metadata": {
  "kernelspec": {
   "display_name": "Python 3",
   "language": "python",
   "name": "python3"
  },
  "language_info": {
   "codemirror_mode": {
    "name": "ipython",
    "version": 3
   },
   "file_extension": ".py",
   "mimetype": "text/x-python",
   "name": "python",
   "nbconvert_exporter": "python",
   "pygments_lexer": "ipython3",
   "version": "3.8.5"
  }
 },
 "nbformat": 4,
 "nbformat_minor": 4
}
