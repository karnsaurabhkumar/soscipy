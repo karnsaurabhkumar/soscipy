{
 "cells": [
  {
   "cell_type": "code",
   "execution_count": 12,
   "metadata": {},
   "outputs": [
    {
     "name": "stdout",
     "output_type": "stream",
     "text": [
      "Requirement already satisfied: soscipy in /Users/saurabhkarn/opt/anaconda3/lib/python3.8/site-packages (0.0.42)\n",
      "Requirement already satisfied: webencodings==0.5.1 in /Users/saurabhkarn/opt/anaconda3/lib/python3.8/site-packages (from soscipy) (0.5.1)\n",
      "Requirement already satisfied: zipp==3.4.1 in /Users/saurabhkarn/opt/anaconda3/lib/python3.8/site-packages (from soscipy) (3.4.1)\n",
      "Requirement already satisfied: packaging==20.9 in /Users/saurabhkarn/opt/anaconda3/lib/python3.8/site-packages (from soscipy) (20.9)\n",
      "Requirement already satisfied: certifi==2020.12.5 in /Users/saurabhkarn/opt/anaconda3/lib/python3.8/site-packages (from soscipy) (2020.12.5)\n",
      "Requirement already satisfied: importlib-metadata==4.0.1 in /Users/saurabhkarn/opt/anaconda3/lib/python3.8/site-packages (from soscipy) (4.0.1)\n",
      "Requirement already satisfied: keyring==23.0.1 in /Users/saurabhkarn/opt/anaconda3/lib/python3.8/site-packages (from soscipy) (23.0.1)\n",
      "Requirement already satisfied: rfc3986==1.4.0 in /Users/saurabhkarn/opt/anaconda3/lib/python3.8/site-packages (from soscipy) (1.4.0)\n",
      "Requirement already satisfied: colorama==0.4.4 in /Users/saurabhkarn/opt/anaconda3/lib/python3.8/site-packages (from soscipy) (0.4.4)\n",
      "Requirement already satisfied: docutils==0.17.1 in /Users/saurabhkarn/opt/anaconda3/lib/python3.8/site-packages (from soscipy) (0.17.1)\n",
      "Requirement already satisfied: twine==3.4.1 in /Users/saurabhkarn/opt/anaconda3/lib/python3.8/site-packages (from soscipy) (3.4.1)\n",
      "Requirement already satisfied: urllib3==1.26.4 in /Users/saurabhkarn/opt/anaconda3/lib/python3.8/site-packages (from soscipy) (1.26.4)\n",
      "Requirement already satisfied: tqdm==4.60.0 in /Users/saurabhkarn/opt/anaconda3/lib/python3.8/site-packages (from soscipy) (4.60.0)\n",
      "Requirement already satisfied: six==1.15.0 in /Users/saurabhkarn/opt/anaconda3/lib/python3.8/site-packages (from soscipy) (1.15.0)\n",
      "Requirement already satisfied: chardet==4.0.0 in /Users/saurabhkarn/opt/anaconda3/lib/python3.8/site-packages (from soscipy) (4.0.0)\n",
      "Requirement already satisfied: pyparsing==2.4.7 in /Users/saurabhkarn/opt/anaconda3/lib/python3.8/site-packages (from soscipy) (2.4.7)\n",
      "Requirement already satisfied: setuptools in /Users/saurabhkarn/opt/anaconda3/lib/python3.8/site-packages (from soscipy) (50.3.1.post20201107)\n",
      "Requirement already satisfied: idna==2.10 in /Users/saurabhkarn/opt/anaconda3/lib/python3.8/site-packages (from soscipy) (2.10)\n",
      "Requirement already satisfied: requests-toolbelt==0.9.1 in /Users/saurabhkarn/opt/anaconda3/lib/python3.8/site-packages (from soscipy) (0.9.1)\n",
      "Requirement already satisfied: toml==0.10.2 in /Users/saurabhkarn/opt/anaconda3/lib/python3.8/site-packages (from soscipy) (0.10.2)\n",
      "Requirement already satisfied: Pygments==2.8.1 in /Users/saurabhkarn/opt/anaconda3/lib/python3.8/site-packages (from soscipy) (2.8.1)\n",
      "Requirement already satisfied: pkginfo==1.7.0 in /Users/saurabhkarn/opt/anaconda3/lib/python3.8/site-packages (from soscipy) (1.7.0)\n",
      "Requirement already satisfied: wheel==0.36.2 in /Users/saurabhkarn/opt/anaconda3/lib/python3.8/site-packages (from soscipy) (0.36.2)\n",
      "Requirement already satisfied: requests==2.25.1 in /Users/saurabhkarn/opt/anaconda3/lib/python3.8/site-packages (from soscipy) (2.25.1)\n",
      "Requirement already satisfied: pip==21.0.1 in /Users/saurabhkarn/opt/anaconda3/lib/python3.8/site-packages (from soscipy) (21.0.1)\n",
      "Requirement already satisfied: build==0.3.1.post1 in /Users/saurabhkarn/opt/anaconda3/lib/python3.8/site-packages (from soscipy) (0.3.1.post1)\n",
      "Requirement already satisfied: pep517==0.10.0 in /Users/saurabhkarn/opt/anaconda3/lib/python3.8/site-packages (from soscipy) (0.10.0)\n",
      "Requirement already satisfied: readme-renderer==29.0 in /Users/saurabhkarn/opt/anaconda3/lib/python3.8/site-packages (from soscipy) (29.0)\n",
      "Requirement already satisfied: bleach==3.3.0 in /Users/saurabhkarn/opt/anaconda3/lib/python3.8/site-packages (from soscipy) (3.3.0)\n",
      "\u001b[33mWARNING: You are using pip version 21.0.1; however, version 21.1.1 is available.\n",
      "You should consider upgrading via the '/Users/saurabhkarn/opt/anaconda3/bin/python -m pip install --upgrade pip' command.\u001b[0m\n"
     ]
    }
   ],
   "source": [
    "!pip install soscipy --upgrade"
   ]
  },
  {
   "cell_type": "markdown",
   "metadata": {},
   "source": [
    "## Running High Court scraper"
   ]
  },
  {
   "cell_type": "code",
   "execution_count": 13,
   "metadata": {},
   "outputs": [],
   "source": [
    "from soscipy.fetch import HighCourt"
   ]
  },
  {
   "cell_type": "code",
   "execution_count": null,
   "metadata": {},
   "outputs": [],
   "source": [
    "HighCourt.delhi_HC_scraper"
   ]
  },
  {
   "cell_type": "code",
   "execution_count": null,
   "metadata": {},
   "outputs": [],
   "source": [
    "HighCourt.del"
   ]
  },
  {
   "cell_type": "code",
   "execution_count": 14,
   "metadata": {},
   "outputs": [],
   "source": [
    "delhi = HighCourt.delhi_hc_search(case_type=4,case_no=None,case_year=2020,headless=False,delay=0)"
   ]
  },
  {
   "cell_type": "code",
   "execution_count": 15,
   "metadata": {},
   "outputs": [
    {
     "name": "stderr",
     "output_type": "stream",
     "text": [
      "[WDM] - ====== WebDriver manager ======\n",
      "INFO:WDM:====== WebDriver manager ======\n"
     ]
    },
    {
     "name": "stdout",
     "output_type": "stream",
     "text": [
      "\n",
      "\n"
     ]
    },
    {
     "name": "stderr",
     "output_type": "stream",
     "text": [
      "[WDM] - Current google-chrome version is 90.0.4430\n",
      "INFO:WDM:Current google-chrome version is 90.0.4430\n",
      "[WDM] - Get LATEST driver version for 90.0.4430\n",
      "INFO:WDM:Get LATEST driver version for 90.0.4430\n",
      "[WDM] - Driver [/Users/saurabhkarn/.wdm/drivers/chromedriver/mac64/90.0.4430.24/chromedriver] found in cache\n",
      "INFO:WDM:Driver [/Users/saurabhkarn/.wdm/drivers/chromedriver/mac64/90.0.4430.24/chromedriver] found in cache\n"
     ]
    },
    {
     "name": "stdout",
     "output_type": "stream",
     "text": [
      "Browser setup complete\n",
      "Selecting case type BAIL APPLN. - [BAILA]\n",
      "Total search results: 4244\n",
      "No. of pages_visited: 0\r"
     ]
    },
    {
     "ename": "IndexError",
     "evalue": "list index out of range",
     "output_type": "error",
     "traceback": [
      "\u001b[0;31m---------------------------------------------------------------------------\u001b[0m",
      "\u001b[0;31mIndexError\u001b[0m                                Traceback (most recent call last)",
      "\u001b[0;32m<ipython-input-15-75c10f1060cc>\u001b[0m in \u001b[0;36m<module>\u001b[0;34m\u001b[0m\n\u001b[0;32m----> 1\u001b[0;31m \u001b[0mdelhi\u001b[0m\u001b[0;34m.\u001b[0m\u001b[0mstart_scraping\u001b[0m\u001b[0;34m(\u001b[0m\u001b[0;34m)\u001b[0m\u001b[0;34m\u001b[0m\u001b[0;34m\u001b[0m\u001b[0m\n\u001b[0m",
      "\u001b[0;32m~/opt/anaconda3/lib/python3.8/site-packages/soscipy/fetch/HighCourt.py\u001b[0m in \u001b[0;36mstart_scraping\u001b[0;34m(self, order_links, pdf_links)\u001b[0m\n\u001b[1;32m    198\u001b[0m                 \u001b[0;31m# correct value\u001b[0m\u001b[0;34m\u001b[0m\u001b[0;34m\u001b[0m\u001b[0;34m\u001b[0m\u001b[0m\n\u001b[1;32m    199\u001b[0m                 \u001b[0moj_window\u001b[0m \u001b[0;34m=\u001b[0m \u001b[0mlist\u001b[0m\u001b[0;34m(\u001b[0m\u001b[0;34m(\u001b[0m\u001b[0mset\u001b[0m\u001b[0;34m(\u001b[0m\u001b[0mself\u001b[0m\u001b[0;34m.\u001b[0m\u001b[0mdriver\u001b[0m\u001b[0;34m.\u001b[0m\u001b[0mwindow_handles\u001b[0m\u001b[0;34m)\u001b[0m \u001b[0;34m-\u001b[0m \u001b[0mset\u001b[0m\u001b[0;34m(\u001b[0m\u001b[0;34m[\u001b[0m\u001b[0mmain_window\u001b[0m\u001b[0;34m]\u001b[0m\u001b[0;34m)\u001b[0m\u001b[0;34m)\u001b[0m\u001b[0;34m)\u001b[0m\u001b[0;34m[\u001b[0m\u001b[0;36m0\u001b[0m\u001b[0;34m]\u001b[0m\u001b[0;34m\u001b[0m\u001b[0;34m\u001b[0m\u001b[0m\n\u001b[0;32m--> 200\u001b[0;31m \u001b[0;34m\u001b[0m\u001b[0m\n\u001b[0m\u001b[1;32m    201\u001b[0m                 \u001b[0mself\u001b[0m\u001b[0;34m.\u001b[0m\u001b[0mdriver\u001b[0m\u001b[0;34m.\u001b[0m\u001b[0mswitch_to\u001b[0m\u001b[0;34m.\u001b[0m\u001b[0mwindow\u001b[0m\u001b[0;34m(\u001b[0m\u001b[0moj_window\u001b[0m\u001b[0;34m)\u001b[0m\u001b[0;34m\u001b[0m\u001b[0;34m\u001b[0m\u001b[0m\n\u001b[1;32m    202\u001b[0m                 \u001b[0morder_subpage\u001b[0m \u001b[0;34m=\u001b[0m \u001b[0mself\u001b[0m\u001b[0;34m.\u001b[0m\u001b[0mdriver\u001b[0m\u001b[0;34m.\u001b[0m\u001b[0mpage_source\u001b[0m\u001b[0;34m\u001b[0m\u001b[0;34m\u001b[0m\u001b[0m\n",
      "\u001b[0;32m~/opt/anaconda3/lib/python3.8/site-packages/soscipy/fetch/HighCourt.py\u001b[0m in \u001b[0;36mparse_orders_page\u001b[0;34m(self, html)\u001b[0m\n\u001b[1;32m    322\u001b[0m         \u001b[0morders\u001b[0m \u001b[0;34m=\u001b[0m \u001b[0;34m{\u001b[0m\u001b[0;34m}\u001b[0m\u001b[0;34m\u001b[0m\u001b[0;34m\u001b[0m\u001b[0m\n\u001b[1;32m    323\u001b[0m         \u001b[0;32mtry\u001b[0m\u001b[0;34m:\u001b[0m\u001b[0;34m\u001b[0m\u001b[0;34m\u001b[0m\u001b[0m\n\u001b[0;32m--> 324\u001b[0;31m             \u001b[0;32mfor\u001b[0m \u001b[0mi\u001b[0m \u001b[0;32min\u001b[0m \u001b[0mrange\u001b[0m\u001b[0;34m(\u001b[0m\u001b[0mlen\u001b[0m\u001b[0;34m(\u001b[0m\u001b[0mli\u001b[0m\u001b[0;34m)\u001b[0m\u001b[0;34m)\u001b[0m\u001b[0;34m:\u001b[0m\u001b[0;34m\u001b[0m\u001b[0;34m\u001b[0m\u001b[0m\n\u001b[0m\u001b[1;32m    325\u001b[0m             \"\"\"\n\u001b[1;32m    326\u001b[0m             \u001b[0mThe\u001b[0m \u001b[0mDelhi\u001b[0m \u001b[0mHigh\u001b[0m \u001b[0mcourt\u001b[0m \u001b[0mwebsite\u001b[0m \u001b[0messentially\u001b[0m \u001b[0mhas\u001b[0m \u001b[0ma\u001b[0m \u001b[0ma\u001b[0m \u001b[0mcase\u001b[0m \u001b[0mstatus\u001b[0m \u001b[0mpage\u001b[0m \u001b[0;32mand\u001b[0m \u001b[0ma\u001b[0m \u001b[0mbutton\u001b[0m\u001b[0;34m\u001b[0m\u001b[0;34m\u001b[0m\u001b[0m\n",
      "\u001b[0;31mIndexError\u001b[0m: list index out of range"
     ]
    }
   ],
   "source": [
    "delhi.start_scraping()"
   ]
  },
  {
   "cell_type": "code",
   "execution_count": null,
   "metadata": {},
   "outputs": [],
   "source": []
  }
 ],
 "metadata": {
  "kernelspec": {
   "display_name": "Python 3",
   "language": "python",
   "name": "python3"
  },
  "language_info": {
   "codemirror_mode": {
    "name": "ipython",
    "version": 3
   },
   "file_extension": ".py",
   "mimetype": "text/x-python",
   "name": "python",
   "nbconvert_exporter": "python",
   "pygments_lexer": "ipython3",
   "version": "3.8.5"
  }
 },
 "nbformat": 4,
 "nbformat_minor": 4
}
