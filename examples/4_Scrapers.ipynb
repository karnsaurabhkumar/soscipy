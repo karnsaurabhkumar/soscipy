{
 "cells": [
  {
   "cell_type": "code",
   "execution_count": 92,
   "metadata": {},
   "outputs": [],
   "source": [
    "import os\n",
    "\n",
    "from selenium import webdriver\n",
    "from selenium.webdriver.chrome.options import Options\n",
    "from webdriver_manager.chrome import ChromeDriverManager\n",
    "from selenium.webdriver.support.ui import Select\n",
    "\n",
    "os.environ['WDM_LOG_LEVEL'] = '0'\n",
    "\n",
    "\n",
    "class browser:\n",
    "    def __init__(self, URL=None, headless=True, no_image=True) -> object:\n",
    "        self.url = URL\n",
    "        self.headless = headless\n",
    "        self.no_image = no_image\n",
    "        self.select_elements = {}\n",
    "\n",
    "    def setup(self):\n",
    "        options = Options()\n",
    "        if self.headless:\n",
    "            options.add_argument('--headless')\n",
    "        if self.no_image:\n",
    "            prefs = {\"profile.managed_default_content_settings.images\": 2}\n",
    "            options.add_experimental_option(\"prefs\", prefs)\n",
    "            self.driver = webdriver.Chrome(ChromeDriverManager().install(), options=options)\n",
    "        elif not options:\n",
    "            self.driver = webdriver.Chrome(ChromeDriverManager().install())\n",
    "        print('starting the browser')\n",
    "    \n",
    "    def close(self):\n",
    "        self.driver.quit()\n"
   ]
  },
  {
   "cell_type": "code",
   "execution_count": 1,
   "metadata": {},
   "outputs": [],
   "source": [
    "import time,re\n",
    "import os\n",
    "from bs4 import BeautifulSoup as bs\n",
    "\n",
    "from selenium import webdriver\n",
    "from selenium.webdriver.chrome.options import Options\n",
    "from webdriver_manager.chrome import ChromeDriverManager\n",
    "from selenium.webdriver.support.ui import Select"
   ]
  },
  {
   "cell_type": "code",
   "execution_count": 135,
   "metadata": {},
   "outputs": [],
   "source": [
    "def remove_none(L):\n",
    "    return [x for x in L if x is not None]\n",
    "\n",
    "class delhi_hc_search:\n",
    "    def __init__(self,case_type,case_year,case_no=None,headless=True,no_image=True,delay=1,ret=False):\n",
    "        \"\"\"\n",
    "        The Delhi High court website provides three ways to look for case data:\n",
    "        1. Using Case type\n",
    "        2. Using petitioner and respondents information\n",
    "        3. Using Advocate information \n",
    "        4. Using diary no. information\n",
    "        \n",
    "        This object provides a way to look for the bulk data using case type. Hence, to initialise we require\n",
    "        three parameters\n",
    "        \n",
    "        case_type: string, an element in the list of options provided by the high court website that categorises a case\n",
    "        case_no: int, case no. registered in the high court\n",
    "        case_year: int, Year of registering the case in yyyy\n",
    "        \"\"\"\n",
    "        \n",
    "        self.url = \"http://delhihighcourt.nic.in/case.asp\"\n",
    "        self.case_type = case_type\n",
    "        self.case_no = case_no\n",
    "        self.case_year = str(case_year )\n",
    "        \n",
    "\n",
    "        \"\"\"\n",
    "        Browser configuration\n",
    "        Certain optimisations have been done to reduce the chrome overload which anyways is much higher. \n",
    "        Parameters i.e. headless, no_image\n",
    "        \"\"\"\n",
    "        self.headless = headless\n",
    "        self.no_image = no_image\n",
    "        self.elements = {}\n",
    "        \n",
    "        \"\"\"\n",
    "        This is the meat of the scraper which tells the code where a specific piece of content can be found\n",
    "        on the webpage.\n",
    "        \"\"\"\n",
    "        self.elements['case_type'] = \"//*[@id='InnerPageContent']/form[1]/select[1]\"\n",
    "        self.elements['case_type_elem'] = \"//*[@id='InnerPageContent']/form[1]/select[1]\"\n",
    "        self.elements['case_no'] = \"//*[@id='InnerPageContent']/form[1]/input[1]\"\n",
    "        self.elements['case_year_elem'] = \"//*[@id='c_year']\"\n",
    "        self.elements['captcha_text_input'] = \"//*[@id='inputdigit']\"\n",
    "        self.elements['captcha_text_value'] = \"//*[@id='InnerPageContent']/form[1]/label[4]\"\n",
    "        self.elements['search_but'] = \"//*[@id='InnerPageContent']/form[1]/button\"\n",
    "        \n",
    "        #Keeping a global name for case_type_select element\n",
    "        self.case_type_select = None\n",
    "        self.case_type_options = None\n",
    "        self.delay = delay\n",
    "        \n",
    "        #Assertions\n",
    "        if self.case_no:\n",
    "            assert type(self.case_no) == int, \"Case no. must be an integer\"\n",
    "        assert (type(case_year) == int) & (len(str(case_year)) == 4), \"Case no. must be an year in YYYY format\"\n",
    "    \n",
    "    def _delay(self):\n",
    "        #Spleep function that delays page load. Usually to avoid overloading the server\n",
    "        time.sleep(self.delay)\n",
    "    \n",
    "    def get_case_type_options(self):\n",
    "        #Fetches the case type options from the dropdown menue\n",
    "        case_type_select = Select(self.driver.find_element_by_xpath(self.elements['case_type']))\n",
    "        self.case_type_options = [(ind,opt.text) for ind, opt in enumerate(case_type_select.options)]\n",
    "        #print(self.case_type_options)\n",
    "        \n",
    "    def get_search_page(self):\n",
    "        #Calls the setup method to create a browser driver\n",
    "        self.setup()\n",
    "        #Fetch the URL for the delhi highcourt\n",
    "        self.driver.get(self.url)\n",
    "        #Fetch all the case type options from the \n",
    "        self.get_case_type_options()\n",
    "        \n",
    "    def get_captcha_text(self):\n",
    "        self.captcha_text_val = self.driver.find_element_by_xpath(self.elements['captcha_text_value'])\n",
    "        self.captcha_text_val = self.captcha_text_val.text.split(\" \")[2]\n",
    "    \n",
    "    def set_case_type(self):\n",
    "        case_type_select = Select(self.driver.find_element_by_xpath(self.elements['case_type']))\n",
    "        case_type_select.select_by_index(self.case_type)\n",
    "        print(f'Selecting case type {self.case_type_options[self.case_type][1]}')\n",
    "        \n",
    "    def set_case_no(self):\n",
    "        if self.case_no:\n",
    "            case_type_select = self.driver.find_element_by_xpath(self.elements['case_no'])\n",
    "            case_type_select.send_keys(self.case_no)\n",
    "            print(f'Selecting case no {self.case_no}')\n",
    "        \n",
    "    def set_case_year(self):\n",
    "        case_year_select = Select(self.driver.find_element_by_xpath(self.elements['case_year_elem']))\n",
    "        case_year_select.select_by_value(self.case_year)\n",
    "        \n",
    "    def set_captcha_text(self):\n",
    "        captcha_text = self.driver.find_element_by_xpath(self.elements['captcha_text_input'])\n",
    "        captcha_text.send_keys(self.captcha_text_val)\n",
    "        \n",
    "    def set_param(self):\n",
    "        self.get_search_page()\n",
    "        self._delay()\n",
    "        self.set_case_type()\n",
    "        self._delay()\n",
    "        self.set_case_no()\n",
    "        self._delay()\n",
    "        self.set_case_year()\n",
    "        self._delay()\n",
    "        self.get_captcha_text()\n",
    "        self.set_captcha_text()\n",
    "    \n",
    "    def get_search_results(self):\n",
    "        #Set search parameters\n",
    "        self.set_param()\n",
    "        \n",
    "        #find search button and click on it\n",
    "        search_but = self.driver.find_element_by_xpath(self.elements['search_but'])\n",
    "        search_but.click()\n",
    "        self.get_search_count()\n",
    "            \n",
    "    def start_scraping(self):\n",
    "        self.get_search_results()\n",
    "        print(f'Total search results: {self.search_count}')\n",
    "        self.page_visited = []\n",
    "        self.page_not_visited = []\n",
    "        #seed page no visited\n",
    "        nav_links_curr_page = [element.get_attribute('href') \n",
    "                               for element in \n",
    "                               self.driver.find_elements_by_class_name('archivelink')]\n",
    "        \n",
    "        for link in nav_links_curr_page:\n",
    "            self.page_not_visited.append(link)\n",
    "        \n",
    "        self.valid_links = remove_none(list(set(self.page_not_visited) - set(self.page_visited)))\n",
    "        page_counter = 0\n",
    "        data = []\n",
    "        while self.valid_links:\n",
    "            self.driver.get(self.valid_links[0])\n",
    "            self.page_visited.append(self.valid_links[0])\n",
    "            current_page = self.driver.page_source\n",
    "            #Get case status data\n",
    "            data.append(self.parse_status_html(current_page))\n",
    "            #Get other navigation links\n",
    "            nav_links_curr_page = [element.get_attribute('href') \n",
    "                           for element in \n",
    "                           self.driver.find_elements_by_class_name('archivelink')]\n",
    "            for link in nav_links_curr_page:\n",
    "                if link not in self.page_visited:\n",
    "                    self.page_not_visited.append(link)\n",
    "            self.valid_links = remove_none(list(set(self.page_not_visited) - set(self.page_visited)))\n",
    "            page_counter += 1\n",
    "        \n",
    "        self.scraped_data = pd.concat([pd.DataFrame(d).T for d in data])\n",
    "        if not ret:\n",
    "            return None\n",
    "        else:\n",
    "            return data\n",
    "                        \n",
    "                \n",
    "        \n",
    "        #Get all current valid links\n",
    "        #Page_counter = 0\n",
    "        #While links are valid:\n",
    "            #If page_counter !=0\n",
    "                #Fetch current page\n",
    "                #Move link from not visited to visited\n",
    "                #Process current page\n",
    "                #Process orders link for each application\n",
    "                #Save each order and judement as pdf\n",
    "                #Increment counter page_counter += 1\n",
    "    \n",
    "    def clean_text(self,text):\n",
    "        text = text.replace(u'\\xa0', u'').replace('\\n','')\n",
    "        text = re.sub(' +',' ',re.sub('\\t+','\\t',text))\n",
    "        text = text.lstrip().rstrip()\n",
    "        return text\n",
    "\n",
    "    def merge_alternate_list(self,lst1, lst2):\n",
    "        return [sub[item] for item in range(len(lst2))\n",
    "                          for sub in [lst1, lst2]]\n",
    "    \n",
    "    def parse_status_html(self,html):\n",
    "        soup = bs(html,'html5lib')\n",
    "        li_odd = soup.find_all('li',{\"class\":\"clearfix odd\"})\n",
    "        li_even = soup.find_all('li',{\"class\":\"clearfix even\"})\n",
    "        li = self.merge_alternate_list(li_odd,li_even)\n",
    "        case_status_data = {}\n",
    "        for i in range(len(li)):\n",
    "            s0 = self.clean_text(li[i].select('span',attrs={'class':re.compile('^title*')})[0].get_text())\n",
    "            sr_no = s0.replace(\".\",\"\")\n",
    "\n",
    "            s1 = self.clean_text(li[i].select('span',attrs={'class':re.compile('^title*')})[1].get_text())\n",
    "            case_status1 = re.findall(r'\\[.*?\\]',s1)[0]\n",
    "            diary_no = s1.split(case_status1)[0].replace('\\t','')\n",
    "\n",
    "            s2 = self.clean_text(li[i].select('span',attrs={'class':re.compile('^title*')})[2].get_text())\n",
    "            advocate = s2.split('Advocate :')[-1]\n",
    "            petitioner,respondent = s2.split('Advocate :')[0].split('Vs.')\n",
    "\n",
    "            s3 = self.clean_text(li[i].select('span',attrs={'class':re.compile('^title*')})[3].get_text())\n",
    "            try:\n",
    "                court_no,case_status2,judgement_date = re.findall('^\\D*(\\d)\\s(\\D*)\\s(\\d+/\\d+/\\d+)',s3)[0]\n",
    "            except:\n",
    "                court_no,case_status2,judgement_date = \"\",\"\",\"\"\n",
    "\n",
    "            case_status_data[f'n_{i}'] = {}\n",
    "            case_status_data[f'n_{i}']['sr_no'] = sr_no\n",
    "            case_status_data[f'n_{i}']['diary_no'] = diary_no\n",
    "            case_status_data[f'n_{i}']['case_status1'] = case_status1\n",
    "            case_status_data[f'n_{i}']['petitioner'] = petitioner\n",
    "            case_status_data[f'n_{i}']['respondent'] = respondent\n",
    "            case_status_data[f'n_{i}']['advocate'] = advocate\n",
    "            case_status_data[f'n_{i}']['court_no'] = court_no\n",
    "            case_status_data[f'n_{i}']['case_status2'] = case_status2\n",
    "            case_status_data[f'n_{i}']['judgement_date'] = judgement_date\n",
    "        return case_status_data\n",
    "    \n",
    "    def get_order_page_links(self,html):\n",
    "        oj_details_elem = soup.find_all('button',{'class':'button pull-right'})\n",
    "        oj_details = [str(elem.get('onclick')).replace(str(elem.get('onclick'))[-1],'').replace('location.href=','http://delhihighcourt.nic.in/')\n",
    "                for elem in oj_details_elem]\n",
    "    \n",
    "    def get_search_count(self):\n",
    "        self.search_count = self.driver.find_element_by_xpath(\"//*[@id='InnerPageContent']/span\").text\n",
    "        self.search_count = int(self.search_count.split(\":\")[-1].lstrip().rstrip())\n",
    "    \n",
    "    def parse_orders_page(self,html):\n",
    "        soup = bs(html,'html5lib')\n",
    "        li = soup.find_all('li',{\"class\":\"clearfix odd\"})\n",
    "\n",
    "        orders = {}\n",
    "        for i in range(len(li)):\n",
    "            \"\"\"\n",
    "            The Delhi High court website essentially has a a case status page and a button\n",
    "            which gives details of all the orders related to that case. This function\n",
    "            parses the page to provide structured data from the page. Variables include\n",
    "            serial no, date of order, corrigendum text\n",
    "\n",
    "            \"\"\"\n",
    "            s0 = self.clean_text(li[i].select('span',attrs={'class':re.compile('^title*')})[0].get_text())\n",
    "            sr_no = s0.replace(\".\",\"\")\n",
    "\n",
    "            s1 = self.clean_text(li[i].select('span',attrs={'class':re.compile('^title*')})[1].get_text())\n",
    "            case_no = s1\n",
    "\n",
    "            s2 = self.clean_text(li[i].select('span',attrs={'class':re.compile('^title*')})[2].get_text())\n",
    "            date_of_order = s2\n",
    "\n",
    "            s3 = self.clean_text(li[i].select('span',attrs={'class':re.compile('^title*')})[3].get_text())\n",
    "            corrigendum = s3\n",
    "\n",
    "            orders[f'n_{i+1}'] = {}\n",
    "            orders[f'n_{i+1}']['sr_no'] = sr_no\n",
    "            orders[f'n_{i+1}']['case_no'] = case_no\n",
    "            orders[f'n_{i+1}']['date_of_order'] = date_of_order\n",
    "            orders[f'n_{i+1}']['corrigendum'] = corrigendum\n",
    "\n",
    "        return orders\n",
    "    \n",
    "    \n",
    "    def setup(self):\n",
    "        options = Options()\n",
    "        if self.headless:\n",
    "            options.add_argument('--headless')\n",
    "        \n",
    "        options.add_argument(\"--disable-xss-auditor\")\n",
    "        options.add_argument(\"--disable-web-security\")\n",
    "        options.add_argument(\"--allow-running-insecure-content\")\n",
    "        options.add_argument(\"--no-sandbox\")\n",
    "        options.add_argument(\"--disable-setuid-sandbox\")\n",
    "        options.add_argument(\"--disable-webgl\")\n",
    "        options.add_argument(\"--ignore-certificate-errors\")\n",
    "        options.add_argument(\"--disable-popup-blocking\")\n",
    "        \n",
    "        if self.no_image:\n",
    "            prefs = {\"profile.managed_default_content_settings.images\": 2}\n",
    "            options.add_experimental_option(\"prefs\", prefs)\n",
    "            self.driver = webdriver.Chrome(ChromeDriverManager().install(), options=options)\n",
    "        elif not options:\n",
    "            self.driver = webdriver.Chrome(ChromeDriverManager().install())\n",
    "        print('Browser setup complete')\n",
    "    \n",
    "    def close(self):\n",
    "        self.driver.quit()"
   ]
  },
  {
   "cell_type": "code",
   "execution_count": 136,
   "metadata": {},
   "outputs": [],
   "source": [
    "delhi.close()"
   ]
  },
  {
   "cell_type": "code",
   "execution_count": 137,
   "metadata": {},
   "outputs": [],
   "source": [
    "delhi = delhi_hc_search(case_type=4,case_no=None,case_year=2020,headless=False,delay=0)"
   ]
  },
  {
   "cell_type": "code",
   "execution_count": 134,
   "metadata": {},
   "outputs": [
    {
     "name": "stderr",
     "output_type": "stream",
     "text": [
      "[WDM] - ====== WebDriver manager ======\n",
      "[WDM] - Current google-chrome version is 90.0.4430\n",
      "[WDM] - Get LATEST driver version for 90.0.4430\n"
     ]
    },
    {
     "name": "stdout",
     "output_type": "stream",
     "text": [
      "\n",
      "\n"
     ]
    },
    {
     "name": "stderr",
     "output_type": "stream",
     "text": [
      "[WDM] - Driver [/Users/saurabhkarn/.wdm/drivers/chromedriver/mac64/90.0.4430.24/chromedriver] found in cache\n"
     ]
    },
    {
     "name": "stdout",
     "output_type": "stream",
     "text": [
      "Browser setup complete\n",
      "Selecting case type BAIL APPLN. - [BAILA]\n",
      "Total search results: 4244\n"
     ]
    },
    {
     "ename": "KeyboardInterrupt",
     "evalue": "",
     "output_type": "error",
     "traceback": [
      "\u001b[0;31m---------------------------------------------------------------------------\u001b[0m",
      "\u001b[0;31mKeyboardInterrupt\u001b[0m                         Traceback (most recent call last)",
      "\u001b[0;32m<ipython-input-134-e6f61a65463a>\u001b[0m in \u001b[0;36m<module>\u001b[0;34m\u001b[0m\n\u001b[0;32m----> 1\u001b[0;31m \u001b[0mdata\u001b[0m \u001b[0;34m=\u001b[0m \u001b[0mdelhi\u001b[0m\u001b[0;34m.\u001b[0m\u001b[0mstart_scraping\u001b[0m\u001b[0;34m(\u001b[0m\u001b[0;34m)\u001b[0m\u001b[0;34m\u001b[0m\u001b[0;34m\u001b[0m\u001b[0m\n\u001b[0m",
      "\u001b[0;32m<ipython-input-125-4d8fd475c52b>\u001b[0m in \u001b[0;36mstart_scraping\u001b[0;34m(self)\u001b[0m\n\u001b[1;32m    135\u001b[0m         \u001b[0mdata\u001b[0m \u001b[0;34m=\u001b[0m \u001b[0;34m[\u001b[0m\u001b[0;34m]\u001b[0m\u001b[0;34m\u001b[0m\u001b[0;34m\u001b[0m\u001b[0m\n\u001b[1;32m    136\u001b[0m         \u001b[0;32mwhile\u001b[0m \u001b[0mself\u001b[0m\u001b[0;34m.\u001b[0m\u001b[0mvalid_links\u001b[0m\u001b[0;34m:\u001b[0m\u001b[0;34m\u001b[0m\u001b[0;34m\u001b[0m\u001b[0m\n\u001b[0;32m--> 137\u001b[0;31m             \u001b[0mself\u001b[0m\u001b[0;34m.\u001b[0m\u001b[0mdriver\u001b[0m\u001b[0;34m.\u001b[0m\u001b[0mget\u001b[0m\u001b[0;34m(\u001b[0m\u001b[0mself\u001b[0m\u001b[0;34m.\u001b[0m\u001b[0mvalid_links\u001b[0m\u001b[0;34m[\u001b[0m\u001b[0;36m0\u001b[0m\u001b[0;34m]\u001b[0m\u001b[0;34m)\u001b[0m\u001b[0;34m\u001b[0m\u001b[0;34m\u001b[0m\u001b[0m\n\u001b[0m\u001b[1;32m    138\u001b[0m             \u001b[0mself\u001b[0m\u001b[0;34m.\u001b[0m\u001b[0mpage_visited\u001b[0m\u001b[0;34m.\u001b[0m\u001b[0mappend\u001b[0m\u001b[0;34m(\u001b[0m\u001b[0mself\u001b[0m\u001b[0;34m.\u001b[0m\u001b[0mvalid_links\u001b[0m\u001b[0;34m[\u001b[0m\u001b[0;36m0\u001b[0m\u001b[0;34m]\u001b[0m\u001b[0;34m)\u001b[0m\u001b[0;34m\u001b[0m\u001b[0;34m\u001b[0m\u001b[0m\n\u001b[1;32m    139\u001b[0m             \u001b[0;32mif\u001b[0m \u001b[0mpage_counter\u001b[0m \u001b[0;34m!=\u001b[0m \u001b[0;36m0\u001b[0m\u001b[0;34m:\u001b[0m\u001b[0;34m\u001b[0m\u001b[0;34m\u001b[0m\u001b[0m\n",
      "\u001b[0;32m~/opt/anaconda3/lib/python3.8/site-packages/selenium/webdriver/remote/webdriver.py\u001b[0m in \u001b[0;36mget\u001b[0;34m(self, url)\u001b[0m\n\u001b[1;32m    331\u001b[0m         \u001b[0mLoads\u001b[0m \u001b[0ma\u001b[0m \u001b[0mweb\u001b[0m \u001b[0mpage\u001b[0m \u001b[0;32min\u001b[0m \u001b[0mthe\u001b[0m \u001b[0mcurrent\u001b[0m \u001b[0mbrowser\u001b[0m \u001b[0msession\u001b[0m\u001b[0;34m.\u001b[0m\u001b[0;34m\u001b[0m\u001b[0;34m\u001b[0m\u001b[0m\n\u001b[1;32m    332\u001b[0m         \"\"\"\n\u001b[0;32m--> 333\u001b[0;31m         \u001b[0mself\u001b[0m\u001b[0;34m.\u001b[0m\u001b[0mexecute\u001b[0m\u001b[0;34m(\u001b[0m\u001b[0mCommand\u001b[0m\u001b[0;34m.\u001b[0m\u001b[0mGET\u001b[0m\u001b[0;34m,\u001b[0m \u001b[0;34m{\u001b[0m\u001b[0;34m'url'\u001b[0m\u001b[0;34m:\u001b[0m \u001b[0murl\u001b[0m\u001b[0;34m}\u001b[0m\u001b[0;34m)\u001b[0m\u001b[0;34m\u001b[0m\u001b[0;34m\u001b[0m\u001b[0m\n\u001b[0m\u001b[1;32m    334\u001b[0m \u001b[0;34m\u001b[0m\u001b[0m\n\u001b[1;32m    335\u001b[0m     \u001b[0;34m@\u001b[0m\u001b[0mproperty\u001b[0m\u001b[0;34m\u001b[0m\u001b[0;34m\u001b[0m\u001b[0m\n",
      "\u001b[0;32m~/opt/anaconda3/lib/python3.8/site-packages/selenium/webdriver/remote/webdriver.py\u001b[0m in \u001b[0;36mexecute\u001b[0;34m(self, driver_command, params)\u001b[0m\n\u001b[1;32m    317\u001b[0m \u001b[0;34m\u001b[0m\u001b[0m\n\u001b[1;32m    318\u001b[0m         \u001b[0mparams\u001b[0m \u001b[0;34m=\u001b[0m \u001b[0mself\u001b[0m\u001b[0;34m.\u001b[0m\u001b[0m_wrap_value\u001b[0m\u001b[0;34m(\u001b[0m\u001b[0mparams\u001b[0m\u001b[0;34m)\u001b[0m\u001b[0;34m\u001b[0m\u001b[0;34m\u001b[0m\u001b[0m\n\u001b[0;32m--> 319\u001b[0;31m         \u001b[0mresponse\u001b[0m \u001b[0;34m=\u001b[0m \u001b[0mself\u001b[0m\u001b[0;34m.\u001b[0m\u001b[0mcommand_executor\u001b[0m\u001b[0;34m.\u001b[0m\u001b[0mexecute\u001b[0m\u001b[0;34m(\u001b[0m\u001b[0mdriver_command\u001b[0m\u001b[0;34m,\u001b[0m \u001b[0mparams\u001b[0m\u001b[0;34m)\u001b[0m\u001b[0;34m\u001b[0m\u001b[0;34m\u001b[0m\u001b[0m\n\u001b[0m\u001b[1;32m    320\u001b[0m         \u001b[0;32mif\u001b[0m \u001b[0mresponse\u001b[0m\u001b[0;34m:\u001b[0m\u001b[0;34m\u001b[0m\u001b[0;34m\u001b[0m\u001b[0m\n\u001b[1;32m    321\u001b[0m             \u001b[0mself\u001b[0m\u001b[0;34m.\u001b[0m\u001b[0merror_handler\u001b[0m\u001b[0;34m.\u001b[0m\u001b[0mcheck_response\u001b[0m\u001b[0;34m(\u001b[0m\u001b[0mresponse\u001b[0m\u001b[0;34m)\u001b[0m\u001b[0;34m\u001b[0m\u001b[0;34m\u001b[0m\u001b[0m\n",
      "\u001b[0;32m~/opt/anaconda3/lib/python3.8/site-packages/selenium/webdriver/remote/remote_connection.py\u001b[0m in \u001b[0;36mexecute\u001b[0;34m(self, command, params)\u001b[0m\n\u001b[1;32m    372\u001b[0m         \u001b[0mdata\u001b[0m \u001b[0;34m=\u001b[0m \u001b[0mutils\u001b[0m\u001b[0;34m.\u001b[0m\u001b[0mdump_json\u001b[0m\u001b[0;34m(\u001b[0m\u001b[0mparams\u001b[0m\u001b[0;34m)\u001b[0m\u001b[0;34m\u001b[0m\u001b[0;34m\u001b[0m\u001b[0m\n\u001b[1;32m    373\u001b[0m         \u001b[0murl\u001b[0m \u001b[0;34m=\u001b[0m \u001b[0;34m'%s%s'\u001b[0m \u001b[0;34m%\u001b[0m \u001b[0;34m(\u001b[0m\u001b[0mself\u001b[0m\u001b[0;34m.\u001b[0m\u001b[0m_url\u001b[0m\u001b[0;34m,\u001b[0m \u001b[0mpath\u001b[0m\u001b[0;34m)\u001b[0m\u001b[0;34m\u001b[0m\u001b[0;34m\u001b[0m\u001b[0m\n\u001b[0;32m--> 374\u001b[0;31m         \u001b[0;32mreturn\u001b[0m \u001b[0mself\u001b[0m\u001b[0;34m.\u001b[0m\u001b[0m_request\u001b[0m\u001b[0;34m(\u001b[0m\u001b[0mcommand_info\u001b[0m\u001b[0;34m[\u001b[0m\u001b[0;36m0\u001b[0m\u001b[0;34m]\u001b[0m\u001b[0;34m,\u001b[0m \u001b[0murl\u001b[0m\u001b[0;34m,\u001b[0m \u001b[0mbody\u001b[0m\u001b[0;34m=\u001b[0m\u001b[0mdata\u001b[0m\u001b[0;34m)\u001b[0m\u001b[0;34m\u001b[0m\u001b[0;34m\u001b[0m\u001b[0m\n\u001b[0m\u001b[1;32m    375\u001b[0m \u001b[0;34m\u001b[0m\u001b[0m\n\u001b[1;32m    376\u001b[0m     \u001b[0;32mdef\u001b[0m \u001b[0m_request\u001b[0m\u001b[0;34m(\u001b[0m\u001b[0mself\u001b[0m\u001b[0;34m,\u001b[0m \u001b[0mmethod\u001b[0m\u001b[0;34m,\u001b[0m \u001b[0murl\u001b[0m\u001b[0;34m,\u001b[0m \u001b[0mbody\u001b[0m\u001b[0;34m=\u001b[0m\u001b[0;32mNone\u001b[0m\u001b[0;34m)\u001b[0m\u001b[0;34m:\u001b[0m\u001b[0;34m\u001b[0m\u001b[0;34m\u001b[0m\u001b[0m\n",
      "\u001b[0;32m~/opt/anaconda3/lib/python3.8/site-packages/selenium/webdriver/remote/remote_connection.py\u001b[0m in \u001b[0;36m_request\u001b[0;34m(self, method, url, body)\u001b[0m\n\u001b[1;32m    395\u001b[0m \u001b[0;34m\u001b[0m\u001b[0m\n\u001b[1;32m    396\u001b[0m         \u001b[0;32mif\u001b[0m \u001b[0mself\u001b[0m\u001b[0;34m.\u001b[0m\u001b[0mkeep_alive\u001b[0m\u001b[0;34m:\u001b[0m\u001b[0;34m\u001b[0m\u001b[0;34m\u001b[0m\u001b[0m\n\u001b[0;32m--> 397\u001b[0;31m             \u001b[0mresp\u001b[0m \u001b[0;34m=\u001b[0m \u001b[0mself\u001b[0m\u001b[0;34m.\u001b[0m\u001b[0m_conn\u001b[0m\u001b[0;34m.\u001b[0m\u001b[0mrequest\u001b[0m\u001b[0;34m(\u001b[0m\u001b[0mmethod\u001b[0m\u001b[0;34m,\u001b[0m \u001b[0murl\u001b[0m\u001b[0;34m,\u001b[0m \u001b[0mbody\u001b[0m\u001b[0;34m=\u001b[0m\u001b[0mbody\u001b[0m\u001b[0;34m,\u001b[0m \u001b[0mheaders\u001b[0m\u001b[0;34m=\u001b[0m\u001b[0mheaders\u001b[0m\u001b[0;34m)\u001b[0m\u001b[0;34m\u001b[0m\u001b[0;34m\u001b[0m\u001b[0m\n\u001b[0m\u001b[1;32m    398\u001b[0m \u001b[0;34m\u001b[0m\u001b[0m\n\u001b[1;32m    399\u001b[0m             \u001b[0mstatuscode\u001b[0m \u001b[0;34m=\u001b[0m \u001b[0mresp\u001b[0m\u001b[0;34m.\u001b[0m\u001b[0mstatus\u001b[0m\u001b[0;34m\u001b[0m\u001b[0;34m\u001b[0m\u001b[0m\n",
      "\u001b[0;32m~/opt/anaconda3/lib/python3.8/site-packages/urllib3/request.py\u001b[0m in \u001b[0;36mrequest\u001b[0;34m(self, method, url, fields, headers, **urlopen_kw)\u001b[0m\n\u001b[1;32m     77\u001b[0m             )\n\u001b[1;32m     78\u001b[0m         \u001b[0;32melse\u001b[0m\u001b[0;34m:\u001b[0m\u001b[0;34m\u001b[0m\u001b[0;34m\u001b[0m\u001b[0m\n\u001b[0;32m---> 79\u001b[0;31m             return self.request_encode_body(\n\u001b[0m\u001b[1;32m     80\u001b[0m                 \u001b[0mmethod\u001b[0m\u001b[0;34m,\u001b[0m \u001b[0murl\u001b[0m\u001b[0;34m,\u001b[0m \u001b[0mfields\u001b[0m\u001b[0;34m=\u001b[0m\u001b[0mfields\u001b[0m\u001b[0;34m,\u001b[0m \u001b[0mheaders\u001b[0m\u001b[0;34m=\u001b[0m\u001b[0mheaders\u001b[0m\u001b[0;34m,\u001b[0m \u001b[0;34m**\u001b[0m\u001b[0murlopen_kw\u001b[0m\u001b[0;34m\u001b[0m\u001b[0;34m\u001b[0m\u001b[0m\n\u001b[1;32m     81\u001b[0m             )\n",
      "\u001b[0;32m~/opt/anaconda3/lib/python3.8/site-packages/urllib3/request.py\u001b[0m in \u001b[0;36mrequest_encode_body\u001b[0;34m(self, method, url, fields, headers, encode_multipart, multipart_boundary, **urlopen_kw)\u001b[0m\n\u001b[1;32m    169\u001b[0m         \u001b[0mextra_kw\u001b[0m\u001b[0;34m.\u001b[0m\u001b[0mupdate\u001b[0m\u001b[0;34m(\u001b[0m\u001b[0murlopen_kw\u001b[0m\u001b[0;34m)\u001b[0m\u001b[0;34m\u001b[0m\u001b[0;34m\u001b[0m\u001b[0m\n\u001b[1;32m    170\u001b[0m \u001b[0;34m\u001b[0m\u001b[0m\n\u001b[0;32m--> 171\u001b[0;31m         \u001b[0;32mreturn\u001b[0m \u001b[0mself\u001b[0m\u001b[0;34m.\u001b[0m\u001b[0murlopen\u001b[0m\u001b[0;34m(\u001b[0m\u001b[0mmethod\u001b[0m\u001b[0;34m,\u001b[0m \u001b[0murl\u001b[0m\u001b[0;34m,\u001b[0m \u001b[0;34m**\u001b[0m\u001b[0mextra_kw\u001b[0m\u001b[0;34m)\u001b[0m\u001b[0;34m\u001b[0m\u001b[0;34m\u001b[0m\u001b[0m\n\u001b[0m",
      "\u001b[0;32m~/opt/anaconda3/lib/python3.8/site-packages/urllib3/poolmanager.py\u001b[0m in \u001b[0;36murlopen\u001b[0;34m(self, method, url, redirect, **kw)\u001b[0m\n\u001b[1;32m    334\u001b[0m             \u001b[0mresponse\u001b[0m \u001b[0;34m=\u001b[0m \u001b[0mconn\u001b[0m\u001b[0;34m.\u001b[0m\u001b[0murlopen\u001b[0m\u001b[0;34m(\u001b[0m\u001b[0mmethod\u001b[0m\u001b[0;34m,\u001b[0m \u001b[0murl\u001b[0m\u001b[0;34m,\u001b[0m \u001b[0;34m**\u001b[0m\u001b[0mkw\u001b[0m\u001b[0;34m)\u001b[0m\u001b[0;34m\u001b[0m\u001b[0;34m\u001b[0m\u001b[0m\n\u001b[1;32m    335\u001b[0m         \u001b[0;32melse\u001b[0m\u001b[0;34m:\u001b[0m\u001b[0;34m\u001b[0m\u001b[0;34m\u001b[0m\u001b[0m\n\u001b[0;32m--> 336\u001b[0;31m             \u001b[0mresponse\u001b[0m \u001b[0;34m=\u001b[0m \u001b[0mconn\u001b[0m\u001b[0;34m.\u001b[0m\u001b[0murlopen\u001b[0m\u001b[0;34m(\u001b[0m\u001b[0mmethod\u001b[0m\u001b[0;34m,\u001b[0m \u001b[0mu\u001b[0m\u001b[0;34m.\u001b[0m\u001b[0mrequest_uri\u001b[0m\u001b[0;34m,\u001b[0m \u001b[0;34m**\u001b[0m\u001b[0mkw\u001b[0m\u001b[0;34m)\u001b[0m\u001b[0;34m\u001b[0m\u001b[0;34m\u001b[0m\u001b[0m\n\u001b[0m\u001b[1;32m    337\u001b[0m \u001b[0;34m\u001b[0m\u001b[0m\n\u001b[1;32m    338\u001b[0m         \u001b[0mredirect_location\u001b[0m \u001b[0;34m=\u001b[0m \u001b[0mredirect\u001b[0m \u001b[0;32mand\u001b[0m \u001b[0mresponse\u001b[0m\u001b[0;34m.\u001b[0m\u001b[0mget_redirect_location\u001b[0m\u001b[0;34m(\u001b[0m\u001b[0;34m)\u001b[0m\u001b[0;34m\u001b[0m\u001b[0;34m\u001b[0m\u001b[0m\n",
      "\u001b[0;32m~/opt/anaconda3/lib/python3.8/site-packages/urllib3/connectionpool.py\u001b[0m in \u001b[0;36murlopen\u001b[0;34m(self, method, url, body, headers, retries, redirect, assert_same_host, timeout, pool_timeout, release_conn, chunked, body_pos, **response_kw)\u001b[0m\n\u001b[1;32m    668\u001b[0m \u001b[0;34m\u001b[0m\u001b[0m\n\u001b[1;32m    669\u001b[0m             \u001b[0;31m# Make the request on the httplib connection object.\u001b[0m\u001b[0;34m\u001b[0m\u001b[0;34m\u001b[0m\u001b[0;34m\u001b[0m\u001b[0m\n\u001b[0;32m--> 670\u001b[0;31m             httplib_response = self._make_request(\n\u001b[0m\u001b[1;32m    671\u001b[0m                 \u001b[0mconn\u001b[0m\u001b[0;34m,\u001b[0m\u001b[0;34m\u001b[0m\u001b[0;34m\u001b[0m\u001b[0m\n\u001b[1;32m    672\u001b[0m                 \u001b[0mmethod\u001b[0m\u001b[0;34m,\u001b[0m\u001b[0;34m\u001b[0m\u001b[0;34m\u001b[0m\u001b[0m\n",
      "\u001b[0;32m~/opt/anaconda3/lib/python3.8/site-packages/urllib3/connectionpool.py\u001b[0m in \u001b[0;36m_make_request\u001b[0;34m(self, conn, method, url, timeout, chunked, **httplib_request_kw)\u001b[0m\n\u001b[1;32m    424\u001b[0m                     \u001b[0;31m# Python 3 (including for exceptions like SystemExit).\u001b[0m\u001b[0;34m\u001b[0m\u001b[0;34m\u001b[0m\u001b[0;34m\u001b[0m\u001b[0m\n\u001b[1;32m    425\u001b[0m                     \u001b[0;31m# Otherwise it looks like a bug in the code.\u001b[0m\u001b[0;34m\u001b[0m\u001b[0;34m\u001b[0m\u001b[0;34m\u001b[0m\u001b[0m\n\u001b[0;32m--> 426\u001b[0;31m                     \u001b[0msix\u001b[0m\u001b[0;34m.\u001b[0m\u001b[0mraise_from\u001b[0m\u001b[0;34m(\u001b[0m\u001b[0me\u001b[0m\u001b[0;34m,\u001b[0m \u001b[0;32mNone\u001b[0m\u001b[0;34m)\u001b[0m\u001b[0;34m\u001b[0m\u001b[0;34m\u001b[0m\u001b[0m\n\u001b[0m\u001b[1;32m    427\u001b[0m         \u001b[0;32mexcept\u001b[0m \u001b[0;34m(\u001b[0m\u001b[0mSocketTimeout\u001b[0m\u001b[0;34m,\u001b[0m \u001b[0mBaseSSLError\u001b[0m\u001b[0;34m,\u001b[0m \u001b[0mSocketError\u001b[0m\u001b[0;34m)\u001b[0m \u001b[0;32mas\u001b[0m \u001b[0me\u001b[0m\u001b[0;34m:\u001b[0m\u001b[0;34m\u001b[0m\u001b[0;34m\u001b[0m\u001b[0m\n\u001b[1;32m    428\u001b[0m             \u001b[0mself\u001b[0m\u001b[0;34m.\u001b[0m\u001b[0m_raise_timeout\u001b[0m\u001b[0;34m(\u001b[0m\u001b[0merr\u001b[0m\u001b[0;34m=\u001b[0m\u001b[0me\u001b[0m\u001b[0;34m,\u001b[0m \u001b[0murl\u001b[0m\u001b[0;34m=\u001b[0m\u001b[0murl\u001b[0m\u001b[0;34m,\u001b[0m \u001b[0mtimeout_value\u001b[0m\u001b[0;34m=\u001b[0m\u001b[0mread_timeout\u001b[0m\u001b[0;34m)\u001b[0m\u001b[0;34m\u001b[0m\u001b[0;34m\u001b[0m\u001b[0m\n",
      "\u001b[0;32m~/opt/anaconda3/lib/python3.8/site-packages/urllib3/packages/six.py\u001b[0m in \u001b[0;36mraise_from\u001b[0;34m(value, from_value)\u001b[0m\n",
      "\u001b[0;32m~/opt/anaconda3/lib/python3.8/site-packages/urllib3/connectionpool.py\u001b[0m in \u001b[0;36m_make_request\u001b[0;34m(self, conn, method, url, timeout, chunked, **httplib_request_kw)\u001b[0m\n\u001b[1;32m    419\u001b[0m                 \u001b[0;31m# Python 3\u001b[0m\u001b[0;34m\u001b[0m\u001b[0;34m\u001b[0m\u001b[0;34m\u001b[0m\u001b[0m\n\u001b[1;32m    420\u001b[0m                 \u001b[0;32mtry\u001b[0m\u001b[0;34m:\u001b[0m\u001b[0;34m\u001b[0m\u001b[0;34m\u001b[0m\u001b[0m\n\u001b[0;32m--> 421\u001b[0;31m                     \u001b[0mhttplib_response\u001b[0m \u001b[0;34m=\u001b[0m \u001b[0mconn\u001b[0m\u001b[0;34m.\u001b[0m\u001b[0mgetresponse\u001b[0m\u001b[0;34m(\u001b[0m\u001b[0;34m)\u001b[0m\u001b[0;34m\u001b[0m\u001b[0;34m\u001b[0m\u001b[0m\n\u001b[0m\u001b[1;32m    422\u001b[0m                 \u001b[0;32mexcept\u001b[0m \u001b[0mBaseException\u001b[0m \u001b[0;32mas\u001b[0m \u001b[0me\u001b[0m\u001b[0;34m:\u001b[0m\u001b[0;34m\u001b[0m\u001b[0;34m\u001b[0m\u001b[0m\n\u001b[1;32m    423\u001b[0m                     \u001b[0;31m# Remove the TypeError from the exception chain in\u001b[0m\u001b[0;34m\u001b[0m\u001b[0;34m\u001b[0m\u001b[0;34m\u001b[0m\u001b[0m\n",
      "\u001b[0;32m~/opt/anaconda3/lib/python3.8/http/client.py\u001b[0m in \u001b[0;36mgetresponse\u001b[0;34m(self)\u001b[0m\n\u001b[1;32m   1345\u001b[0m         \u001b[0;32mtry\u001b[0m\u001b[0;34m:\u001b[0m\u001b[0;34m\u001b[0m\u001b[0;34m\u001b[0m\u001b[0m\n\u001b[1;32m   1346\u001b[0m             \u001b[0;32mtry\u001b[0m\u001b[0;34m:\u001b[0m\u001b[0;34m\u001b[0m\u001b[0;34m\u001b[0m\u001b[0m\n\u001b[0;32m-> 1347\u001b[0;31m                 \u001b[0mresponse\u001b[0m\u001b[0;34m.\u001b[0m\u001b[0mbegin\u001b[0m\u001b[0;34m(\u001b[0m\u001b[0;34m)\u001b[0m\u001b[0;34m\u001b[0m\u001b[0;34m\u001b[0m\u001b[0m\n\u001b[0m\u001b[1;32m   1348\u001b[0m             \u001b[0;32mexcept\u001b[0m \u001b[0mConnectionError\u001b[0m\u001b[0;34m:\u001b[0m\u001b[0;34m\u001b[0m\u001b[0;34m\u001b[0m\u001b[0m\n\u001b[1;32m   1349\u001b[0m                 \u001b[0mself\u001b[0m\u001b[0;34m.\u001b[0m\u001b[0mclose\u001b[0m\u001b[0;34m(\u001b[0m\u001b[0;34m)\u001b[0m\u001b[0;34m\u001b[0m\u001b[0;34m\u001b[0m\u001b[0m\n",
      "\u001b[0;32m~/opt/anaconda3/lib/python3.8/http/client.py\u001b[0m in \u001b[0;36mbegin\u001b[0;34m(self)\u001b[0m\n\u001b[1;32m    305\u001b[0m         \u001b[0;31m# read until we get a non-100 response\u001b[0m\u001b[0;34m\u001b[0m\u001b[0;34m\u001b[0m\u001b[0;34m\u001b[0m\u001b[0m\n\u001b[1;32m    306\u001b[0m         \u001b[0;32mwhile\u001b[0m \u001b[0;32mTrue\u001b[0m\u001b[0;34m:\u001b[0m\u001b[0;34m\u001b[0m\u001b[0;34m\u001b[0m\u001b[0m\n\u001b[0;32m--> 307\u001b[0;31m             \u001b[0mversion\u001b[0m\u001b[0;34m,\u001b[0m \u001b[0mstatus\u001b[0m\u001b[0;34m,\u001b[0m \u001b[0mreason\u001b[0m \u001b[0;34m=\u001b[0m \u001b[0mself\u001b[0m\u001b[0;34m.\u001b[0m\u001b[0m_read_status\u001b[0m\u001b[0;34m(\u001b[0m\u001b[0;34m)\u001b[0m\u001b[0;34m\u001b[0m\u001b[0;34m\u001b[0m\u001b[0m\n\u001b[0m\u001b[1;32m    308\u001b[0m             \u001b[0;32mif\u001b[0m \u001b[0mstatus\u001b[0m \u001b[0;34m!=\u001b[0m \u001b[0mCONTINUE\u001b[0m\u001b[0;34m:\u001b[0m\u001b[0;34m\u001b[0m\u001b[0;34m\u001b[0m\u001b[0m\n\u001b[1;32m    309\u001b[0m                 \u001b[0;32mbreak\u001b[0m\u001b[0;34m\u001b[0m\u001b[0;34m\u001b[0m\u001b[0m\n",
      "\u001b[0;32m~/opt/anaconda3/lib/python3.8/http/client.py\u001b[0m in \u001b[0;36m_read_status\u001b[0;34m(self)\u001b[0m\n\u001b[1;32m    266\u001b[0m \u001b[0;34m\u001b[0m\u001b[0m\n\u001b[1;32m    267\u001b[0m     \u001b[0;32mdef\u001b[0m \u001b[0m_read_status\u001b[0m\u001b[0;34m(\u001b[0m\u001b[0mself\u001b[0m\u001b[0;34m)\u001b[0m\u001b[0;34m:\u001b[0m\u001b[0;34m\u001b[0m\u001b[0;34m\u001b[0m\u001b[0m\n\u001b[0;32m--> 268\u001b[0;31m         \u001b[0mline\u001b[0m \u001b[0;34m=\u001b[0m \u001b[0mstr\u001b[0m\u001b[0;34m(\u001b[0m\u001b[0mself\u001b[0m\u001b[0;34m.\u001b[0m\u001b[0mfp\u001b[0m\u001b[0;34m.\u001b[0m\u001b[0mreadline\u001b[0m\u001b[0;34m(\u001b[0m\u001b[0m_MAXLINE\u001b[0m \u001b[0;34m+\u001b[0m \u001b[0;36m1\u001b[0m\u001b[0;34m)\u001b[0m\u001b[0;34m,\u001b[0m \u001b[0;34m\"iso-8859-1\"\u001b[0m\u001b[0;34m)\u001b[0m\u001b[0;34m\u001b[0m\u001b[0;34m\u001b[0m\u001b[0m\n\u001b[0m\u001b[1;32m    269\u001b[0m         \u001b[0;32mif\u001b[0m \u001b[0mlen\u001b[0m\u001b[0;34m(\u001b[0m\u001b[0mline\u001b[0m\u001b[0;34m)\u001b[0m \u001b[0;34m>\u001b[0m \u001b[0m_MAXLINE\u001b[0m\u001b[0;34m:\u001b[0m\u001b[0;34m\u001b[0m\u001b[0;34m\u001b[0m\u001b[0m\n\u001b[1;32m    270\u001b[0m             \u001b[0;32mraise\u001b[0m \u001b[0mLineTooLong\u001b[0m\u001b[0;34m(\u001b[0m\u001b[0;34m\"status line\"\u001b[0m\u001b[0;34m)\u001b[0m\u001b[0;34m\u001b[0m\u001b[0;34m\u001b[0m\u001b[0m\n",
      "\u001b[0;32m~/opt/anaconda3/lib/python3.8/socket.py\u001b[0m in \u001b[0;36mreadinto\u001b[0;34m(self, b)\u001b[0m\n\u001b[1;32m    667\u001b[0m         \u001b[0;32mwhile\u001b[0m \u001b[0;32mTrue\u001b[0m\u001b[0;34m:\u001b[0m\u001b[0;34m\u001b[0m\u001b[0;34m\u001b[0m\u001b[0m\n\u001b[1;32m    668\u001b[0m             \u001b[0;32mtry\u001b[0m\u001b[0;34m:\u001b[0m\u001b[0;34m\u001b[0m\u001b[0;34m\u001b[0m\u001b[0m\n\u001b[0;32m--> 669\u001b[0;31m                 \u001b[0;32mreturn\u001b[0m \u001b[0mself\u001b[0m\u001b[0;34m.\u001b[0m\u001b[0m_sock\u001b[0m\u001b[0;34m.\u001b[0m\u001b[0mrecv_into\u001b[0m\u001b[0;34m(\u001b[0m\u001b[0mb\u001b[0m\u001b[0;34m)\u001b[0m\u001b[0;34m\u001b[0m\u001b[0;34m\u001b[0m\u001b[0m\n\u001b[0m\u001b[1;32m    670\u001b[0m             \u001b[0;32mexcept\u001b[0m \u001b[0mtimeout\u001b[0m\u001b[0;34m:\u001b[0m\u001b[0;34m\u001b[0m\u001b[0;34m\u001b[0m\u001b[0m\n\u001b[1;32m    671\u001b[0m                 \u001b[0mself\u001b[0m\u001b[0;34m.\u001b[0m\u001b[0m_timeout_occurred\u001b[0m \u001b[0;34m=\u001b[0m \u001b[0;32mTrue\u001b[0m\u001b[0;34m\u001b[0m\u001b[0;34m\u001b[0m\u001b[0m\n",
      "\u001b[0;31mKeyboardInterrupt\u001b[0m: "
     ]
    }
   ],
   "source": [
    "data = delhi.start_scraping()"
   ]
  },
  {
   "cell_type": "code",
   "execution_count": 122,
   "metadata": {},
   "outputs": [],
   "source": [
    "x = pd.concat([pd.DataFrame(d).T for d in data])"
   ]
  },
  {
   "cell_type": "code",
   "execution_count": 131,
   "metadata": {},
   "outputs": [
    {
     "data": {
      "text/plain": [
       "4236"
      ]
     },
     "execution_count": 131,
     "metadata": {},
     "output_type": "execute_result"
    }
   ],
   "source": [
    "len(x)"
   ]
  },
  {
   "cell_type": "code",
   "execution_count": 130,
   "metadata": {},
   "outputs": [
    {
     "data": {
      "text/plain": [
       "4236"
      ]
     },
     "execution_count": 130,
     "metadata": {},
     "output_type": "execute_result"
    }
   ],
   "source": [
    "len(x.drop_duplicates())"
   ]
  },
  {
   "cell_type": "code",
   "execution_count": 119,
   "metadata": {},
   "outputs": [
    {
     "data": {
      "text/html": [
       "<div>\n",
       "<style scoped>\n",
       "    .dataframe tbody tr th:only-of-type {\n",
       "        vertical-align: middle;\n",
       "    }\n",
       "\n",
       "    .dataframe tbody tr th {\n",
       "        vertical-align: top;\n",
       "    }\n",
       "\n",
       "    .dataframe thead th {\n",
       "        text-align: right;\n",
       "    }\n",
       "</style>\n",
       "<table border=\"1\" class=\"dataframe\">\n",
       "  <thead>\n",
       "    <tr style=\"text-align: right;\">\n",
       "      <th></th>\n",
       "      <th>sr_no</th>\n",
       "      <th>diary_no</th>\n",
       "      <th>case_status1</th>\n",
       "      <th>petitioner</th>\n",
       "      <th>respondent</th>\n",
       "      <th>advocate</th>\n",
       "      <th>court_no</th>\n",
       "      <th>case_status2</th>\n",
       "      <th>judgement_date</th>\n",
       "    </tr>\n",
       "  </thead>\n",
       "  <tbody>\n",
       "    <tr>\n",
       "      <th>n_0</th>\n",
       "      <td>65</td>\n",
       "      <td>BAIL APPLN.939/2020</td>\n",
       "      <td>[DISPOSED OFF]</td>\n",
       "      <td>DEEPAK DABAS</td>\n",
       "      <td>STATE (GOVT. OF NCT OF DELHI)</td>\n",
       "      <td>SHIVEK TREHAN</td>\n",
       "      <td>0</td>\n",
       "      <td>DISPOSED OFF on</td>\n",
       "      <td>19/05/2020</td>\n",
       "    </tr>\n",
       "    <tr>\n",
       "      <th>n_1</th>\n",
       "      <td>66</td>\n",
       "      <td>BAIL APPLN.938/2020</td>\n",
       "      <td>[DISPOSED OFF]</td>\n",
       "      <td>ROSHINI BISWAS</td>\n",
       "      <td>GOVT. OF NCT OF DELHI &amp; ANR.</td>\n",
       "      <td>ANUNAYA MEHTA</td>\n",
       "      <td>0</td>\n",
       "      <td>DISPOSED OFF on</td>\n",
       "      <td>19/05/2020</td>\n",
       "    </tr>\n",
       "    <tr>\n",
       "      <th>n_2</th>\n",
       "      <td>67</td>\n",
       "      <td>BAIL APPLN.937/2020</td>\n",
       "      <td>[DISPOSED OFF]</td>\n",
       "      <td>ANIL YADAV @ SAMEER</td>\n",
       "      <td>THE STATE OF N.C.T OF DELHI</td>\n",
       "      <td>NARESH KUMAR TALWAR</td>\n",
       "      <td>0</td>\n",
       "      <td>DISPOSED OFF on</td>\n",
       "      <td>04/06/2020</td>\n",
       "    </tr>\n",
       "    <tr>\n",
       "      <th>n_3</th>\n",
       "      <td>68</td>\n",
       "      <td>BAIL APPLN.936/2020</td>\n",
       "      <td>[DISPOSED OFF]</td>\n",
       "      <td>GHANSHYAM</td>\n",
       "      <td>STATE (NCT OF DELHI)</td>\n",
       "      <td>RAJAN BAJAJ</td>\n",
       "      <td>0</td>\n",
       "      <td>DISPOSED OFF on</td>\n",
       "      <td>10/07/2020</td>\n",
       "    </tr>\n",
       "    <tr>\n",
       "      <th>n_4</th>\n",
       "      <td>69</td>\n",
       "      <td>BAIL APPLN.935/2020</td>\n",
       "      <td>[DISPOSED OFF]</td>\n",
       "      <td>PRADEEP @ DEEPAK @ BHATTA</td>\n",
       "      <td>THE STATE (NCT OF DELHI)</td>\n",
       "      <td>R K GIRI</td>\n",
       "      <td>0</td>\n",
       "      <td>DISPOSED OFF on</td>\n",
       "      <td>22/07/2020</td>\n",
       "    </tr>\n",
       "    <tr>\n",
       "      <th>n_5</th>\n",
       "      <td>70</td>\n",
       "      <td>BAIL APPLN.934/2020</td>\n",
       "      <td>[DISPOSED OFF]</td>\n",
       "      <td>DILSHER AZAD</td>\n",
       "      <td>STATE (GOVT. OF NCT OF DELHI)</td>\n",
       "      <td>VISHAL RAJ SEHIJPAL</td>\n",
       "      <td>0</td>\n",
       "      <td>DISPOSED OFF on</td>\n",
       "      <td>01/06/2020</td>\n",
       "    </tr>\n",
       "    <tr>\n",
       "      <th>n_6</th>\n",
       "      <td>71</td>\n",
       "      <td>BAIL APPLN.933/2020</td>\n",
       "      <td>[DISPOSED OFF]</td>\n",
       "      <td>RAKESH SHARMA @ KALU</td>\n",
       "      <td>STATE</td>\n",
       "      <td>JATAN SINGH</td>\n",
       "      <td>0</td>\n",
       "      <td>DISPOSED OFF on</td>\n",
       "      <td>02/06/2020</td>\n",
       "    </tr>\n",
       "    <tr>\n",
       "      <th>n_7</th>\n",
       "      <td>72</td>\n",
       "      <td>BAIL APPLN.932/2020</td>\n",
       "      <td>[DISPOSED OFF]</td>\n",
       "      <td>MOHAN RAI ARORA @ MONU</td>\n",
       "      <td>GOVT. OF NCT OF DELHI</td>\n",
       "      <td>SHRI SINGH</td>\n",
       "      <td>0</td>\n",
       "      <td>DISPOSED OFF on</td>\n",
       "      <td>21/05/2020</td>\n",
       "    </tr>\n",
       "    <tr>\n",
       "      <th>n_0</th>\n",
       "      <td>17</td>\n",
       "      <td>BAIL APPLN.984/2020</td>\n",
       "      <td>[DISPOSED OFF]</td>\n",
       "      <td>SAGAR YADAV</td>\n",
       "      <td>STATE OF NCT OF DELHI</td>\n",
       "      <td>ASHOK CHHIKARA</td>\n",
       "      <td>0</td>\n",
       "      <td>DISPOSED OFF on</td>\n",
       "      <td>22/05/2020</td>\n",
       "    </tr>\n",
       "    <tr>\n",
       "      <th>n_1</th>\n",
       "      <td>18</td>\n",
       "      <td>BAIL APPLN.983/2020</td>\n",
       "      <td>[DISPOSED OFF]</td>\n",
       "      <td>SURAJ</td>\n",
       "      <td>STATE (GNCT OF DELHI)</td>\n",
       "      <td>HEMANT GULATI</td>\n",
       "      <td>0</td>\n",
       "      <td>DISPOSED OFF on</td>\n",
       "      <td>28/05/2020</td>\n",
       "    </tr>\n",
       "    <tr>\n",
       "      <th>n_2</th>\n",
       "      <td>19</td>\n",
       "      <td>BAIL APPLN.982/2020</td>\n",
       "      <td>[DISPOSED OFF]</td>\n",
       "      <td>NOOR ALI</td>\n",
       "      <td>STATE</td>\n",
       "      <td>MAHESH PRASAD</td>\n",
       "      <td>0</td>\n",
       "      <td>DISPOSED OFF on</td>\n",
       "      <td>02/06/2020</td>\n",
       "    </tr>\n",
       "    <tr>\n",
       "      <th>n_3</th>\n",
       "      <td>20</td>\n",
       "      <td>BAIL APPLN.981/2020</td>\n",
       "      <td>[DISPOSED OFF]</td>\n",
       "      <td>LAKSHAY SAPRA</td>\n",
       "      <td>STATE</td>\n",
       "      <td>HEMANT KUMAR</td>\n",
       "      <td>0</td>\n",
       "      <td>DISPOSED OFF on</td>\n",
       "      <td>05/06/2020</td>\n",
       "    </tr>\n",
       "    <tr>\n",
       "      <th>n_4</th>\n",
       "      <td>21</td>\n",
       "      <td>BAIL APPLN.980/2020</td>\n",
       "      <td>[DISPOSED OFF]</td>\n",
       "      <td>ARSALAN ALI</td>\n",
       "      <td>THE STATE (GOVT OF NCT OF DELHI)</td>\n",
       "      <td>BHARAT DUBEY , SHUBHLAXMI DUBEY</td>\n",
       "      <td>0</td>\n",
       "      <td>DISPOSED OFF on</td>\n",
       "      <td>08/06/2020</td>\n",
       "    </tr>\n",
       "    <tr>\n",
       "      <th>n_5</th>\n",
       "      <td>22</td>\n",
       "      <td>BAIL APPLN.98/2020</td>\n",
       "      <td>[PENDING]</td>\n",
       "      <td>DR. ARVIND KUMAR AGRAHARI</td>\n",
       "      <td>STATE</td>\n",
       "      <td>PRASHANT SHARMA , (DHCLSC)</td>\n",
       "      <td></td>\n",
       "      <td></td>\n",
       "      <td></td>\n",
       "    </tr>\n",
       "    <tr>\n",
       "      <th>n_6</th>\n",
       "      <td>23</td>\n",
       "      <td>BAIL APPLN.979/2020</td>\n",
       "      <td>[DISPOSED OFF]</td>\n",
       "      <td>DINESH KUMAR</td>\n",
       "      <td>STATE</td>\n",
       "      <td>KAUSHAL &amp; ASSOCIATES</td>\n",
       "      <td>0</td>\n",
       "      <td>DISPOSED OFF on</td>\n",
       "      <td>22/05/2020</td>\n",
       "    </tr>\n",
       "    <tr>\n",
       "      <th>n_7</th>\n",
       "      <td>24</td>\n",
       "      <td>BAIL APPLN.978/2020</td>\n",
       "      <td>[DISPOSED OFF]</td>\n",
       "      <td>DHARMENDER</td>\n",
       "      <td>STATE (NCT OF DELHI )</td>\n",
       "      <td>SUSHMA SHARMA</td>\n",
       "      <td>0</td>\n",
       "      <td>DISPOSED OFF on</td>\n",
       "      <td>27/05/2020</td>\n",
       "    </tr>\n",
       "  </tbody>\n",
       "</table>\n",
       "</div>"
      ],
      "text/plain": [
       "    sr_no             diary_no    case_status1                  petitioner  \\\n",
       "n_0    65  BAIL APPLN.939/2020  [DISPOSED OFF]               DEEPAK DABAS    \n",
       "n_1    66  BAIL APPLN.938/2020  [DISPOSED OFF]             ROSHINI BISWAS    \n",
       "n_2    67  BAIL APPLN.937/2020  [DISPOSED OFF]        ANIL YADAV @ SAMEER    \n",
       "n_3    68  BAIL APPLN.936/2020  [DISPOSED OFF]                  GHANSHYAM    \n",
       "n_4    69  BAIL APPLN.935/2020  [DISPOSED OFF]  PRADEEP @ DEEPAK @ BHATTA    \n",
       "n_5    70  BAIL APPLN.934/2020  [DISPOSED OFF]               DILSHER AZAD    \n",
       "n_6    71  BAIL APPLN.933/2020  [DISPOSED OFF]       RAKESH SHARMA @ KALU    \n",
       "n_7    72  BAIL APPLN.932/2020  [DISPOSED OFF]     MOHAN RAI ARORA @ MONU    \n",
       "n_0    17  BAIL APPLN.984/2020  [DISPOSED OFF]                SAGAR YADAV    \n",
       "n_1    18  BAIL APPLN.983/2020  [DISPOSED OFF]                      SURAJ    \n",
       "n_2    19  BAIL APPLN.982/2020  [DISPOSED OFF]                   NOOR ALI    \n",
       "n_3    20  BAIL APPLN.981/2020  [DISPOSED OFF]              LAKSHAY SAPRA    \n",
       "n_4    21  BAIL APPLN.980/2020  [DISPOSED OFF]                ARSALAN ALI    \n",
       "n_5    22   BAIL APPLN.98/2020       [PENDING]  DR. ARVIND KUMAR AGRAHARI    \n",
       "n_6    23  BAIL APPLN.979/2020  [DISPOSED OFF]               DINESH KUMAR    \n",
       "n_7    24  BAIL APPLN.978/2020  [DISPOSED OFF]                 DHARMENDER    \n",
       "\n",
       "                             respondent                          advocate  \\\n",
       "n_0      STATE (GOVT. OF NCT OF DELHI)                      SHIVEK TREHAN   \n",
       "n_1       GOVT. OF NCT OF DELHI & ANR.                      ANUNAYA MEHTA   \n",
       "n_2        THE STATE OF N.C.T OF DELHI                NARESH KUMAR TALWAR   \n",
       "n_3               STATE (NCT OF DELHI)                        RAJAN BAJAJ   \n",
       "n_4           THE STATE (NCT OF DELHI)                           R K GIRI   \n",
       "n_5      STATE (GOVT. OF NCT OF DELHI)                VISHAL RAJ SEHIJPAL   \n",
       "n_6                              STATE                        JATAN SINGH   \n",
       "n_7              GOVT. OF NCT OF DELHI                         SHRI SINGH   \n",
       "n_0              STATE OF NCT OF DELHI                     ASHOK CHHIKARA   \n",
       "n_1              STATE (GNCT OF DELHI)                      HEMANT GULATI   \n",
       "n_2                              STATE                      MAHESH PRASAD   \n",
       "n_3                              STATE                       HEMANT KUMAR   \n",
       "n_4   THE STATE (GOVT OF NCT OF DELHI)    BHARAT DUBEY , SHUBHLAXMI DUBEY   \n",
       "n_5                              STATE         PRASHANT SHARMA , (DHCLSC)   \n",
       "n_6                              STATE               KAUSHAL & ASSOCIATES   \n",
       "n_7              STATE (NCT OF DELHI )                      SUSHMA SHARMA   \n",
       "\n",
       "    court_no     case_status2 judgement_date  \n",
       "n_0        0  DISPOSED OFF on     19/05/2020  \n",
       "n_1        0  DISPOSED OFF on     19/05/2020  \n",
       "n_2        0  DISPOSED OFF on     04/06/2020  \n",
       "n_3        0  DISPOSED OFF on     10/07/2020  \n",
       "n_4        0  DISPOSED OFF on     22/07/2020  \n",
       "n_5        0  DISPOSED OFF on     01/06/2020  \n",
       "n_6        0  DISPOSED OFF on     02/06/2020  \n",
       "n_7        0  DISPOSED OFF on     21/05/2020  \n",
       "n_0        0  DISPOSED OFF on     22/05/2020  \n",
       "n_1        0  DISPOSED OFF on     28/05/2020  \n",
       "n_2        0  DISPOSED OFF on     02/06/2020  \n",
       "n_3        0  DISPOSED OFF on     05/06/2020  \n",
       "n_4        0  DISPOSED OFF on     08/06/2020  \n",
       "n_5                                           \n",
       "n_6        0  DISPOSED OFF on     22/05/2020  \n",
       "n_7        0  DISPOSED OFF on     27/05/2020  "
      ]
     },
     "execution_count": 119,
     "metadata": {},
     "output_type": "execute_result"
    }
   ],
   "source": [
    "pd.concat([pd.DataFrame(data[0]).T,pd.DataFrame(data[1]).T])"
   ]
  },
  {
   "cell_type": "code",
   "execution_count": 107,
   "metadata": {},
   "outputs": [],
   "source": [
    "import pandas as pd\n",
    "dat = pd.DataFrame(data)"
   ]
  },
  {
   "cell_type": "code",
   "execution_count": null,
   "metadata": {},
   "outputs": [],
   "source": [
    "new_dict = {}\n",
    "for item in data:\n",
    "    name = item.pop('name')\n",
    "    new_dict[name] = item\n"
   ]
  },
  {
   "cell_type": "code",
   "execution_count": 71,
   "metadata": {},
   "outputs": [],
   "source": [
    "n_x = delhi.page_not_visited\n",
    "v_x = delhi.page_visited"
   ]
  },
  {
   "cell_type": "code",
   "execution_count": 78,
   "metadata": {},
   "outputs": [
    {
     "data": {
      "text/plain": [
       "['http://delhihighcourt.nic.in/dhc_case_status_list_new.asp?ayear=&pyear=&SNo=1&SRecNo=8&dno=&dyear=&ctype_29=BAIL%20APPLN.&cno=&cyear=2020&party=&adv=',\n",
       " 'http://delhihighcourt.nic.in/dhc_case_status_list_new.asp?ayear=&pyear=&SNo=1&SRecNo=16&dno=&dyear=&ctype_29=BAIL%20APPLN.&cno=&cyear=2020&party=&adv=',\n",
       " 'http://delhihighcourt.nic.in/dhc_case_status_list_new.asp?ayear=&pyear=&SNo=1&SRecNo=24&dno=&dyear=&ctype_29=BAIL%20APPLN.&cno=&cyear=2020&party=&adv=',\n",
       " 'http://delhihighcourt.nic.in/dhc_case_status_list_new.asp?ayear=&pyear=&SNo=1&SRecNo=32&dno=&dyear=&ctype_29=BAIL%20APPLN.&cno=&cyear=2020&party=&adv=',\n",
       " 'http://delhihighcourt.nic.in/dhc_case_status_list_new.asp?ayear=&pyear=&SNo=1&SRecNo=40&dno=&dyear=&ctype_29=BAIL%20APPLN.&cno=&cyear=2020&party=&adv=',\n",
       " 'http://delhihighcourt.nic.in/dhc_case_status_list_new.asp?ayear=&pyear=&SNo=1&SRecNo=48&dno=&dyear=&ctype_29=BAIL%20APPLN.&cno=&cyear=2020&party=&adv=',\n",
       " 'http://delhihighcourt.nic.in/dhc_case_status_list_new.asp?ayear=&pyear=&SNo=1&SRecNo=56&dno=&dyear=&ctype_29=BAIL%20APPLN.&cno=&cyear=2020&party=&adv=',\n",
       " None]"
      ]
     },
     "execution_count": 78,
     "metadata": {},
     "output_type": "execute_result"
    }
   ],
   "source": [
    "n_x[0]"
   ]
  },
  {
   "cell_type": "code",
   "execution_count": 19,
   "metadata": {},
   "outputs": [],
   "source": [
    "delhi.get_search_count()"
   ]
  },
  {
   "cell_type": "code",
   "execution_count": 20,
   "metadata": {},
   "outputs": [
    {
     "data": {
      "text/plain": [
       "4244"
      ]
     },
     "execution_count": 20,
     "metadata": {},
     "output_type": "execute_result"
    }
   ],
   "source": [
    "delhi.search_count"
   ]
  },
  {
   "cell_type": "code",
   "execution_count": 41,
   "metadata": {},
   "outputs": [],
   "source": [
    "pages = [element.get_attribute('href') for element in delhi.driver.find_elements_by_class_name('archivelink')]"
   ]
  },
  {
   "cell_type": "code",
   "execution_count": null,
   "metadata": {},
   "outputs": [],
   "source": [
    "def get_valid_links(page_visited,page_not_visited):\n",
    "    valid_links = list(set(page_not_visited) - set(page_visited))\n",
    "    return valid_links"
   ]
  },
  {
   "cell_type": "code",
   "execution_count": 38,
   "metadata": {},
   "outputs": [
    {
     "data": {
      "text/plain": [
       "['http://delhihighcourt.nic.in/dhc_case_status_list_new.asp?ayear=&pyear=&SNo=1&SRecNo=8&dno=&dyear=&ctype_29=BAIL%20APPLN.&cno=&cyear=2020&party=&adv=',\n",
       " 'http://delhihighcourt.nic.in/dhc_case_status_list_new.asp?ayear=&pyear=&SNo=1&SRecNo=16&dno=&dyear=&ctype_29=BAIL%20APPLN.&cno=&cyear=2020&party=&adv=',\n",
       " 'http://delhihighcourt.nic.in/dhc_case_status_list_new.asp?ayear=&pyear=&SNo=1&SRecNo=24&dno=&dyear=&ctype_29=BAIL%20APPLN.&cno=&cyear=2020&party=&adv=',\n",
       " 'http://delhihighcourt.nic.in/dhc_case_status_list_new.asp?ayear=&pyear=&SNo=1&SRecNo=32&dno=&dyear=&ctype_29=BAIL%20APPLN.&cno=&cyear=2020&party=&adv=',\n",
       " 'http://delhihighcourt.nic.in/dhc_case_status_list_new.asp?ayear=&pyear=&SNo=1&SRecNo=40&dno=&dyear=&ctype_29=BAIL%20APPLN.&cno=&cyear=2020&party=&adv=',\n",
       " 'http://delhihighcourt.nic.in/dhc_case_status_list_new.asp?ayear=&pyear=&SNo=1&SRecNo=48&dno=&dyear=&ctype_29=BAIL%20APPLN.&cno=&cyear=2020&party=&adv=',\n",
       " 'http://delhihighcourt.nic.in/dhc_case_status_list_new.asp?ayear=&pyear=&SNo=1&SRecNo=56&dno=&dyear=&ctype_29=BAIL%20APPLN.&cno=&cyear=2020&party=&adv=',\n",
       " None]"
      ]
     },
     "execution_count": 38,
     "metadata": {},
     "output_type": "execute_result"
    }
   ],
   "source": [
    "pages"
   ]
  },
  {
   "cell_type": "code",
   "execution_count": 36,
   "metadata": {},
   "outputs": [
    {
     "data": {
      "text/plain": [
       "[<selenium.webdriver.remote.webelement.WebElement (session=\"f3114641946ac7c5250f8519379e074c\", element=\"5b7351fd-a19c-481f-bd42-f2430f998410\")>]"
      ]
     },
     "execution_count": 36,
     "metadata": {},
     "output_type": "execute_result"
    }
   ],
   "source": [
    "delhi.driver.find_elements_by_class_name('page-navigation').get_attribute()"
   ]
  },
  {
   "cell_type": "code",
   "execution_count": 32,
   "metadata": {},
   "outputs": [
    {
     "data": {
      "text/plain": [
       "<selenium.webdriver.remote.webelement.WebElement (session=\"f3114641946ac7c5250f8519379e074c\", element=\"5b7351fd-a19c-481f-bd42-f2430f998410\")>"
      ]
     },
     "execution_count": 32,
     "metadata": {},
     "output_type": "execute_result"
    }
   ],
   "source": [
    "delhi.driver.find_element_by_xpath(\"//*[@id='InnerPageContent']/div\")"
   ]
  },
  {
   "cell_type": "code",
   "execution_count": 30,
   "metadata": {
    "scrolled": true
   },
   "outputs": [
    {
     "data": {
      "text/plain": [
       "[<div class=\"page-navigation\">\n",
       " Page : \n",
       " 1\n",
       "      \n",
       " \n",
       "     <a class=\"archivelink\" href=\"dhc_case_status_list_new.asp?ayear=&amp;pyear=&amp;SNo=1&amp;SRecNo=8&amp;dno=&amp;dyear=&amp;ctype_29=BAIL APPLN.&amp;cno=&amp;cyear=2020&amp;party=&amp;adv=\">\n",
       "     2</a>\n",
       " \n",
       "      \n",
       " \n",
       "     <a class=\"archivelink\" href=\"dhc_case_status_list_new.asp?ayear=&amp;pyear=&amp;SNo=1&amp;SRecNo=16&amp;dno=&amp;dyear=&amp;ctype_29=BAIL APPLN.&amp;cno=&amp;cyear=2020&amp;party=&amp;adv=\">\n",
       "     3</a>\n",
       " \n",
       "      \n",
       " \n",
       "     <a class=\"archivelink\" href=\"dhc_case_status_list_new.asp?ayear=&amp;pyear=&amp;SNo=1&amp;SRecNo=24&amp;dno=&amp;dyear=&amp;ctype_29=BAIL APPLN.&amp;cno=&amp;cyear=2020&amp;party=&amp;adv=\">\n",
       "     4</a>\n",
       " \n",
       "      \n",
       " \n",
       "     <a class=\"archivelink\" href=\"dhc_case_status_list_new.asp?ayear=&amp;pyear=&amp;SNo=1&amp;SRecNo=32&amp;dno=&amp;dyear=&amp;ctype_29=BAIL APPLN.&amp;cno=&amp;cyear=2020&amp;party=&amp;adv=\">\n",
       "     5</a>\n",
       " \n",
       "      \n",
       " \n",
       "     <a class=\"archivelink\" href=\"dhc_case_status_list_new.asp?ayear=&amp;pyear=&amp;SNo=1&amp;SRecNo=40&amp;dno=&amp;dyear=&amp;ctype_29=BAIL APPLN.&amp;cno=&amp;cyear=2020&amp;party=&amp;adv=\">\n",
       "     6</a>\n",
       " \n",
       "      \n",
       " \n",
       "     <a class=\"archivelink\" href=\"dhc_case_status_list_new.asp?ayear=&amp;pyear=&amp;SNo=1&amp;SRecNo=48&amp;dno=&amp;dyear=&amp;ctype_29=BAIL APPLN.&amp;cno=&amp;cyear=2020&amp;party=&amp;adv=\">\n",
       "     7</a>\n",
       " \n",
       "      \n",
       " \n",
       "     <a class=\"archivelink\" href=\"dhc_case_status_list_new.asp?ayear=&amp;pyear=&amp;SNo=1&amp;SRecNo=56&amp;dno=&amp;dyear=&amp;ctype_29=BAIL APPLN.&amp;cno=&amp;cyear=2020&amp;party=&amp;adv=\">\n",
       "     8</a>\n",
       " \n",
       "      \n",
       " \n",
       " \n",
       " --- <a href=\"dhc_case_status_list_new.asp?ayear=&amp;pyear=&amp;SNo=1&amp;SRecNo=4248&amp;dno=&amp;dyear=&amp;ctype_29=BAIL APPLN.&amp;cno=&amp;cyear=2020&amp;party=&amp;adv=\">\n",
       "     <div class=\"archivelink\">531</div></a> \n",
       "     \n",
       "    \n",
       " </div>]"
      ]
     },
     "execution_count": 30,
     "metadata": {},
     "output_type": "execute_result"
    }
   ],
   "source": [
    "soup.find_all('div',{'class':'page-navigation'})"
   ]
  },
  {
   "cell_type": "code",
   "execution_count": 17,
   "metadata": {},
   "outputs": [
    {
     "data": {
      "text/plain": [
       "[(0, 'ARB. A. (COMM.) - [ARB]'),\n",
       " (1, 'ARB.A. - [AAP]'),\n",
       " (2, 'ARB.P. - [AA]'),\n",
       " (3, 'AW - [AW]'),\n",
       " (4, 'BAIL APPLN. - [BAILA]'),\n",
       " (5, 'C.O. - [XOBJ]'),\n",
       " (6, 'C.O. - [CO]'),\n",
       " (7, 'C.R.P. - [CR]'),\n",
       " (8, 'C.REF.(O) - [CRO]'),\n",
       " (9, 'C.RULE - [CRULE]'),\n",
       " (10, 'CA - [CAV]'),\n",
       " (11, 'CA - [CAA]'),\n",
       " (12, 'CA - [CAA]'),\n",
       " (13, 'CAVEAT(CO.) - [CAVE]'),\n",
       " (14, 'CC - [CC]'),\n",
       " (15, 'CC(ARB.) - [CCR]'),\n",
       " (16, 'CCP(CO.) - [CCPCO]'),\n",
       " (17, 'CCP(O) - [CCPO]'),\n",
       " (18, 'CCP(REF) - [CCPRF]'),\n",
       " (19, 'CEAC - [CEAC]'),\n",
       " (20, 'CEAR - [CEAR]'),\n",
       " (21, 'CF - [CF]'),\n",
       " (22, 'CHAT.A.C. - [CHAC]'),\n",
       " (23, 'CHAT.A.REF - [CHAR]'),\n",
       " (24, 'CM APPL. - [CM2]'),\n",
       " (25, 'CM APPL. - [CM1]'),\n",
       " (26, 'CM(M) - [CMM]'),\n",
       " (27, 'CMI - [CMI]'),\n",
       " (28, 'CMI - [CMI]'),\n",
       " (29, 'CO.A(SB) - [COASB]'),\n",
       " (30, 'CO.A(SB) - [CO.A]'),\n",
       " (31, 'CO.APP. - [COA]'),\n",
       " (32, 'CO.APPL. - [CA]'),\n",
       " (33, 'CO.APPL.(C) - [CA(C)]'),\n",
       " (34, 'CO.APPL.(M) - [CA(M)]'),\n",
       " (35, 'CO.EX. - [CO.EX]'),\n",
       " (36, 'CO.PET. - [CP]'),\n",
       " (37, 'CONT.APP.(C) - [CCA]'),\n",
       " (38, 'CONT.CAS(C) - [CCP]'),\n",
       " (39, 'CONT.CAS.(CRL) - [CRLCP]'),\n",
       " (40, 'CRL.A. - [CRLA]'),\n",
       " (41, 'CRL.C.REF. - [CRLCR]'),\n",
       " (42, 'CRL.L.P. - [CRLMA]'),\n",
       " (43, 'CRL.L.P. - [CRLMP]'),\n",
       " (44, 'CRL.M.(BAIL) - [CRLMB]'),\n",
       " (45, 'CRL.M.(CO.) - [CRLMC]'),\n",
       " (46, 'CRL.M.A. - [CRLM]'),\n",
       " (47, 'CRL.M.C. - [CRLMM]'),\n",
       " (48, 'CRL.M.I. - [CRLMI]'),\n",
       " (49, 'CRL.O. - [CRLO]'),\n",
       " (50, 'CRL.O.(CO.) - [CRLOC]'),\n",
       " (51, 'CRL.REF. - [CRLRF]'),\n",
       " (52, 'CRL.REV.P. - [CRLR]'),\n",
       " (53, 'CS(COMM) - [SC]'),\n",
       " (54, 'CS(OS) - [S]'),\n",
       " (55, 'CS(OS) GP - [SG]'),\n",
       " (56, 'CUS.A.C. - [CUSAC]'),\n",
       " (57, 'CUS.A.R. - [CUSAR]'),\n",
       " (58, 'CUSAA - [CUSAA]'),\n",
       " (59, 'CUSTOM A. - [CUSA]'),\n",
       " (60, 'DEATH SENTENCE REF. - [MREF]'),\n",
       " (61, 'DEATH SENTENCE REF. - [DSRF]'),\n",
       " (62, 'EDA - [EDA]'),\n",
       " (63, 'EDC - [EDC]'),\n",
       " (64, 'EDR - [EDR]'),\n",
       " (65, 'EFA(OS) - [EFAOS]'),\n",
       " (66, 'EL.PET. - [EP]'),\n",
       " (67, 'ETR - [ETR]'),\n",
       " (68, 'EX.APPL.(OS) - [EA]'),\n",
       " (69, 'EX.F.A. - [EFA]'),\n",
       " (70, 'EX.P. - [EX]'),\n",
       " (71, 'EX.S.A. - [ESA]'),\n",
       " (72, 'FAO - [FAO]'),\n",
       " (73, 'FAO (COMM) - [FAOC]'),\n",
       " (74, 'FAO(OS) - [FAOOS]'),\n",
       " (75, 'FAO(OS) (COMM) - [FAC]'),\n",
       " (76, 'GCAC - [GCAC]'),\n",
       " (77, 'GCAR - [GCAR]'),\n",
       " (78, 'GTA - [GTA]'),\n",
       " (79, 'GTC - [GTC]'),\n",
       " (80, 'GTR - [GTR]'),\n",
       " (81, 'I.A. - [IA]'),\n",
       " (82, 'I.P.A. - [IPA]'),\n",
       " (83, 'ITA - [ITA]'),\n",
       " (84, 'ITC - [ITC]'),\n",
       " (85, 'ITR - [ITR]'),\n",
       " (86, 'ITSA - [ITSA]'),\n",
       " (87, 'LA.APP. - [LAA]'),\n",
       " (88, 'LPA - [LPA]'),\n",
       " (89, 'MAC.APP. - [MACA]'),\n",
       " (90, 'MAT. - [MAT]'),\n",
       " (91, 'MAT.APP. - [MATA]'),\n",
       " (92, 'MAT.APP.(F.C.) - [MATFC]'),\n",
       " (93, 'MAT.CASE - [MATC]'),\n",
       " (94, 'MAT.REF. - [MATR]'),\n",
       " (95, 'MISC. APPEAL(PMLA) - [PMLA]'),\n",
       " (96, 'NA - [NA]'),\n",
       " (97, 'O.A. - [OAA]'),\n",
       " (98, 'O.A. - [OA]'),\n",
       " (99, 'O.M.P. - [OMP]'),\n",
       " (100, 'O.M.P. (COMM) - [OMC]'),\n",
       " (101, 'O.M.P. (E) (COMM.) - [OME]'),\n",
       " (102, 'O.M.P. (J) (COMM.) - [OMJ]'),\n",
       " (103, 'O.M.P. (MISC.) - [OMM]'),\n",
       " (104, 'O.M.P. (T) (COMM.) - [OMT]'),\n",
       " (105, 'O.M.P.(E) - [OE]'),\n",
       " (106, 'O.M.P.(EFA)(COMM.) - [OMA]'),\n",
       " (107, 'O.M.P.(I) - [OI]'),\n",
       " (108, 'O.M.P.(I) (COMM.) - [OMI]'),\n",
       " (109, 'O.M.P.(MISC.)(COMM.) - [OMMC]'),\n",
       " (110, 'O.M.P.(T) - [OMPT]'),\n",
       " (111, 'O.REF. - [OREF]'),\n",
       " (112, 'O.REF. - [CRF]'),\n",
       " (113, 'OBJ. IN SUIT - [OBJ]'),\n",
       " (114, 'OCJA - [OCJA]'),\n",
       " (115, 'OD - [OD]'),\n",
       " (116, 'OLR - [OLR]'),\n",
       " (117, 'OMP (ENF.) (COMM.) - [OMF]'),\n",
       " (118, 'R.A. - [RA]'),\n",
       " (119, 'RC.REV. - [RCR]'),\n",
       " (120, 'RC.S.A. - [SAO]'),\n",
       " (121, 'RC.S.A. - [RCSA]'),\n",
       " (122, 'RERA APPEAL - [RERA]'),\n",
       " (123, 'REVIEW PET. - [RP]'),\n",
       " (124, 'RFA - [RFA]'),\n",
       " (125, 'RFA(COMM) - [RFAC]'),\n",
       " (126, 'RFA(OS) - [RFAOS]'),\n",
       " (127, 'RFA(OS)(COMM) - [RFC]'),\n",
       " (128, 'RSA - [RSA]'),\n",
       " (129, 'SCA - [SCA]'),\n",
       " (130, 'SDR - [SDR]'),\n",
       " (131, 'SERTA - [SERTA]'),\n",
       " (132, 'ST.APPL. - [STC]'),\n",
       " (133, 'ST.APPL. - [STA]'),\n",
       " (134, 'ST.REF. - [STR]'),\n",
       " (135, 'STC - [STC]'),\n",
       " (136, 'SUR.T.REF. - [SRTR]'),\n",
       " (137, 'TEST.CAS. - [PR]'),\n",
       " (138, 'TR.P.(C) - [TRP]'),\n",
       " (139, 'TR.P.(C.) - [TPC]'),\n",
       " (140, 'TR.P.(CRL.) - [TPCRL]'),\n",
       " (141, 'VAT APPEAL - [VATA]'),\n",
       " (142, 'W.P.(C) - [CW]'),\n",
       " (143, 'W.P.(CRL) - [CRLW]'),\n",
       " (144, 'WTA - [WTA]'),\n",
       " (145, 'WTC - [WTC]'),\n",
       " (146, 'WTR - [WTR]')]"
      ]
     },
     "execution_count": 17,
     "metadata": {},
     "output_type": "execute_result"
    }
   ],
   "source": [
    "delhi.case_type_options"
   ]
  },
  {
   "cell_type": "code",
   "execution_count": 67,
   "metadata": {},
   "outputs": [],
   "source": [
    "html = delhi.driver.page_source\n",
    "dat = delhi.parse_status_html(html)\n",
    "soup = bs(html,'html5lib')\n",
    "oj_details_elem = soup.find_all('button',{'class':'button pull-right'})\n",
    "oj_details = [str(elem.get('onclick')).replace(str(elem.get('onclick'))[-1],'').replace('location.href=','http://delhihighcourt.nic.in/')\n",
    "                for elem in oj_details_elem]"
   ]
  },
  {
   "cell_type": "code",
   "execution_count": 106,
   "metadata": {},
   "outputs": [],
   "source": [
    "search_count = delhi.driver.find_element_by_xpath(\"//*[@id='InnerPageContent']/span\").text\n",
    "search_count = int(search_count.split(\":\")[-1].lstrip().rstrip())"
   ]
  },
  {
   "cell_type": "code",
   "execution_count": 6,
   "metadata": {},
   "outputs": [],
   "source": [
    "i=0\n",
    "delhi.driver.execute_script(\"window.open('{}');\".format(oj_details[i]))"
   ]
  },
  {
   "cell_type": "code",
   "execution_count": 7,
   "metadata": {},
   "outputs": [],
   "source": [
    "window_list = delhi.driver.window_handles"
   ]
  },
  {
   "cell_type": "code",
   "execution_count": 15,
   "metadata": {},
   "outputs": [],
   "source": [
    "delhi.driver.switch_to.window(window_list[1])"
   ]
  },
  {
   "cell_type": "code",
   "execution_count": 18,
   "metadata": {},
   "outputs": [],
   "source": [
    "p1 = delhi.driver.page_source\n",
    "delhi.driver.switch_to.window(window_list[0])\n",
    "p2 = delhi.driver.page_source"
   ]
  },
  {
   "cell_type": "code",
   "execution_count": 22,
   "metadata": {},
   "outputs": [],
   "source": [
    "delhi.driver.switch_to.window(window_list[1])"
   ]
  },
  {
   "cell_type": "code",
   "execution_count": 23,
   "metadata": {},
   "outputs": [],
   "source": [
    "p2 = delhi.driver.page_source"
   ]
  },
  {
   "cell_type": "code",
   "execution_count": 43,
   "metadata": {},
   "outputs": [
    {
     "data": {
      "text/plain": [
       "22"
      ]
     },
     "execution_count": 43,
     "metadata": {},
     "output_type": "execute_result"
    }
   ],
   "source": [
    "len(li)"
   ]
  },
  {
   "cell_type": "code",
   "execution_count": 9,
   "metadata": {},
   "outputs": [],
   "source": [
    "for i in range(len(oj_details)):\n",
    "    delhi.driver.execute_script(\"window.open('{}');\".format(oj_details[i]))"
   ]
  },
  {
   "cell_type": "code",
   "execution_count": 10,
   "metadata": {},
   "outputs": [],
   "source": [
    "x = delhi.driver.window_handles"
   ]
  },
  {
   "cell_type": "code",
   "execution_count": 12,
   "metadata": {},
   "outputs": [],
   "source": [
    "delhi.driver.switch_to.window(x[1])"
   ]
  },
  {
   "cell_type": "code",
   "execution_count": 25,
   "metadata": {},
   "outputs": [
    {
     "name": "stderr",
     "output_type": "stream",
     "text": [
      "<ipython-input-25-3517083d1a1d>:2: DeprecationWarning: use driver.switch_to.window instead\n",
      "  delhi.driver.switch_to_window(x[sr_no-4])\n"
     ]
    }
   ],
   "source": [
    "sr_no = 6+1\n",
    "delhi.driver.switch_to_window(x[sr_no-4])"
   ]
  },
  {
   "cell_type": "code",
   "execution_count": 36,
   "metadata": {},
   "outputs": [],
   "source": [
    "soup = bs(html,'html5lib')\n",
    "li_odd = soup.find_all('li',{\"class\":\"clearfix odd\"})\n",
    "li_even = soup.find_all('li',{\"class\":\"clearfix even\"})\n",
    "li = delhi.merge_alternate_list(li_odd,li_even)"
   ]
  },
  {
   "cell_type": "code",
   "execution_count": 43,
   "metadata": {},
   "outputs": [],
   "source": [
    "i=5\n",
    "s0 = delhi.clean_text(li[i].select('span',attrs={'class':re.compile('^title*')})[0].get_text())\n",
    "sr_no = s0.replace(\".\",\"\")"
   ]
  },
  {
   "cell_type": "code",
   "execution_count": 44,
   "metadata": {},
   "outputs": [
    {
     "data": {
      "text/plain": [
       "'6'"
      ]
     },
     "execution_count": 44,
     "metadata": {},
     "output_type": "execute_result"
    }
   ],
   "source": [
    "sr_no"
   ]
  },
  {
   "cell_type": "code",
   "execution_count": 32,
   "metadata": {},
   "outputs": [],
   "source": [
    "s1 = delhi.clean_text(li[i].select('span',attrs={'class':re.compile('^title*')})[1].get_text())"
   ]
  },
  {
   "cell_type": "code",
   "execution_count": 33,
   "metadata": {},
   "outputs": [
    {
     "data": {
      "text/plain": [
       "'ARB.A.6/2020\\t[PENDING]\\t Order(s) Judgement(s)'"
      ]
     },
     "execution_count": 33,
     "metadata": {},
     "output_type": "execute_result"
    }
   ],
   "source": [
    "s1"
   ]
  },
  {
   "cell_type": "code",
   "execution_count": 1101,
   "metadata": {},
   "outputs": [],
   "source": [
    "s1 = delhi.clean_text(li[i].select('span',attrs={'class':re.compile('^title*')})[1].get_text())"
   ]
  },
  {
   "cell_type": "code",
   "execution_count": 1102,
   "metadata": {},
   "outputs": [
    {
     "data": {
      "text/plain": [
       "'ARB.A.6/2020\\t[PENDING]\\t Order(s) Judgement(s)'"
      ]
     },
     "execution_count": 1102,
     "metadata": {},
     "output_type": "execute_result"
    }
   ],
   "source": [
    "s1"
   ]
  },
  {
   "cell_type": "code",
   "execution_count": null,
   "metadata": {},
   "outputs": [],
   "source": []
  }
 ],
 "metadata": {
  "kernelspec": {
   "display_name": "Python 3",
   "language": "python",
   "name": "python3"
  },
  "language_info": {
   "codemirror_mode": {
    "name": "ipython",
    "version": 3
   },
   "file_extension": ".py",
   "mimetype": "text/x-python",
   "name": "python",
   "nbconvert_exporter": "python",
   "pygments_lexer": "ipython3",
   "version": "3.8.5"
  }
 },
 "nbformat": 4,
 "nbformat_minor": 4
}
